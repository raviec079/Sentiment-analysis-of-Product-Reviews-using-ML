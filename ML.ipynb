{
  "cells": [
    {
      "cell_type": "markdown",
      "metadata": {
        "id": "view-in-github",
        "colab_type": "text"
      },
      "source": [
        "<a href=\"https://colab.research.google.com/github/raviec079/Sentiment-analysis-of-Product-Reviews-using-ML/blob/main/ML.ipynb\" target=\"_parent\"><img src=\"https://colab.research.google.com/assets/colab-badge.svg\" alt=\"Open In Colab\"/></a>"
      ]
    },
    {
      "cell_type": "code",
      "execution_count": null,
      "metadata": {
        "colab": {
          "base_uri": "https://localhost:8080/",
          "height": 942
        },
        "id": "3def9d16",
        "outputId": "36be0b6a-f46e-4f11-cb07-1e08afa56359"
      },
      "outputs": [
        {
          "output_type": "stream",
          "name": "stderr",
          "text": [
            "<ipython-input-5-518ea7566c28>:4: FutureWarning: The error_bad_lines argument has been deprecated and will be removed in a future version. Use on_bad_lines in the future.\n",
            "\n",
            "\n",
            "  da1 = pd.read_csv(\"Reviews.csv\", encoding='utf-8', engine='python', error_bad_lines=False, warn_bad_lines=True, delimiter=',')\n",
            "<ipython-input-5-518ea7566c28>:4: FutureWarning: The warn_bad_lines argument has been deprecated and will be removed in a future version. Use on_bad_lines in the future.\n",
            "\n",
            "\n",
            "  da1 = pd.read_csv(\"Reviews.csv\", encoding='utf-8', engine='python', error_bad_lines=False, warn_bad_lines=True, delimiter=',')\n"
          ]
        },
        {
          "output_type": "execute_result",
          "data": {
            "text/plain": [
              "        Id   ProductId          UserId  \\\n",
              "0        1  B001E4KFG0  A3SGXH7AUHU8GW   \n",
              "1        2  B00813GRG4  A1D87F6ZCVE5NK   \n",
              "2        3  B000LQOCH0   ABXLMWJIXXAIN   \n",
              "3        4  B000UA0QIQ  A395BORC6FGVXV   \n",
              "4        5  B006K2ZZ7K  A1UQRSCLF8GW1T   \n",
              "...    ...         ...             ...   \n",
              "6258  6259  B000E65OF6  A3T1O6VEKRUM0X   \n",
              "6259  6260  B000E65OF6  A281NPSIMI1C2R   \n",
              "6260  6261  B000E65OF6  A1L52S6MPK3117   \n",
              "6261  6262  B000KOSDY6  A3P0HSECT04NZ1   \n",
              "6262  6263  B000KOSDY6  A1ZH9LWMX5UCFJ   \n",
              "\n",
              "                                 ProfileName  HelpfulnessNumerator  \\\n",
              "0                                 delmartian                     1   \n",
              "1                                     dll pa                     0   \n",
              "2            Natalia Corres \"Natalia Corres\"                     1   \n",
              "3                                       Karl                     3   \n",
              "4              Michael D. Bigham \"M. Wassir\"                     0   \n",
              "...                                      ...                   ...   \n",
              "6258                         Steve B. Meinel                     0   \n",
              "6259  Rebecca of Amazon \"The Rebecca Review\"                     0   \n",
              "6260                               Kitty Yap                     0   \n",
              "6261                                cartr229                     3   \n",
              "6262                   K. Stuckey \"kateling\"                     3   \n",
              "\n",
              "      HelpfulnessDenominator  Score        Time  \\\n",
              "0                          1      5  1303862400   \n",
              "1                          0      1  1346976000   \n",
              "2                          1      4  1219017600   \n",
              "3                          3      2  1307923200   \n",
              "4                          0      5  1350777600   \n",
              "...                      ...    ...         ...   \n",
              "6258                       0      5  1238112000   \n",
              "6259                       0      5  1211932800   \n",
              "6260                       0      5  1190678400   \n",
              "6261                       3      5  1256342400   \n",
              "6262                       3      5  1208304000   \n",
              "\n",
              "                                Summary  \\\n",
              "0                 Good Quality Dog Food   \n",
              "1                     Not as Advertised   \n",
              "2                 \"Delight\" says it all   \n",
              "3                        Cough Medicine   \n",
              "4                           Great taffy   \n",
              "...                                 ...   \n",
              "6258                Flawless herbal tea   \n",
              "6259            Perfect for the Evening   \n",
              "6260  Wow, Im Addicted...But It's Great   \n",
              "6261                 awesome  corn cake   \n",
              "6262                               yumm   \n",
              "\n",
              "                                                   Text  \n",
              "0     I have bought several of the Vitality canned d...  \n",
              "1     Product arrived labeled as Jumbo Salted Peanut...  \n",
              "2     This is a confection that has been around a fe...  \n",
              "3     If you are looking for the secret ingredient i...  \n",
              "4     Great taffy at a great price.  There was a wid...  \n",
              "...                                                 ...  \n",
              "6258  Sleepytime tea is one of those teas that can a...  \n",
              "6259  Valerian and Chamomile are blended with spearm...  \n",
              "6260  What a wonderful product!<br />I can drink it ...  \n",
              "6261  This product is so great.  My daughter who is ...  \n",
              "6262                                               None  \n",
              "\n",
              "[6263 rows x 10 columns]"
            ],
            "text/html": [
              "\n",
              "  <div id=\"df-0b653088-37b3-4abd-864f-fb6aca270f24\">\n",
              "    <div class=\"colab-df-container\">\n",
              "      <div>\n",
              "<style scoped>\n",
              "    .dataframe tbody tr th:only-of-type {\n",
              "        vertical-align: middle;\n",
              "    }\n",
              "\n",
              "    .dataframe tbody tr th {\n",
              "        vertical-align: top;\n",
              "    }\n",
              "\n",
              "    .dataframe thead th {\n",
              "        text-align: right;\n",
              "    }\n",
              "</style>\n",
              "<table border=\"1\" class=\"dataframe\">\n",
              "  <thead>\n",
              "    <tr style=\"text-align: right;\">\n",
              "      <th></th>\n",
              "      <th>Id</th>\n",
              "      <th>ProductId</th>\n",
              "      <th>UserId</th>\n",
              "      <th>ProfileName</th>\n",
              "      <th>HelpfulnessNumerator</th>\n",
              "      <th>HelpfulnessDenominator</th>\n",
              "      <th>Score</th>\n",
              "      <th>Time</th>\n",
              "      <th>Summary</th>\n",
              "      <th>Text</th>\n",
              "    </tr>\n",
              "  </thead>\n",
              "  <tbody>\n",
              "    <tr>\n",
              "      <th>0</th>\n",
              "      <td>1</td>\n",
              "      <td>B001E4KFG0</td>\n",
              "      <td>A3SGXH7AUHU8GW</td>\n",
              "      <td>delmartian</td>\n",
              "      <td>1</td>\n",
              "      <td>1</td>\n",
              "      <td>5</td>\n",
              "      <td>1303862400</td>\n",
              "      <td>Good Quality Dog Food</td>\n",
              "      <td>I have bought several of the Vitality canned d...</td>\n",
              "    </tr>\n",
              "    <tr>\n",
              "      <th>1</th>\n",
              "      <td>2</td>\n",
              "      <td>B00813GRG4</td>\n",
              "      <td>A1D87F6ZCVE5NK</td>\n",
              "      <td>dll pa</td>\n",
              "      <td>0</td>\n",
              "      <td>0</td>\n",
              "      <td>1</td>\n",
              "      <td>1346976000</td>\n",
              "      <td>Not as Advertised</td>\n",
              "      <td>Product arrived labeled as Jumbo Salted Peanut...</td>\n",
              "    </tr>\n",
              "    <tr>\n",
              "      <th>2</th>\n",
              "      <td>3</td>\n",
              "      <td>B000LQOCH0</td>\n",
              "      <td>ABXLMWJIXXAIN</td>\n",
              "      <td>Natalia Corres \"Natalia Corres\"</td>\n",
              "      <td>1</td>\n",
              "      <td>1</td>\n",
              "      <td>4</td>\n",
              "      <td>1219017600</td>\n",
              "      <td>\"Delight\" says it all</td>\n",
              "      <td>This is a confection that has been around a fe...</td>\n",
              "    </tr>\n",
              "    <tr>\n",
              "      <th>3</th>\n",
              "      <td>4</td>\n",
              "      <td>B000UA0QIQ</td>\n",
              "      <td>A395BORC6FGVXV</td>\n",
              "      <td>Karl</td>\n",
              "      <td>3</td>\n",
              "      <td>3</td>\n",
              "      <td>2</td>\n",
              "      <td>1307923200</td>\n",
              "      <td>Cough Medicine</td>\n",
              "      <td>If you are looking for the secret ingredient i...</td>\n",
              "    </tr>\n",
              "    <tr>\n",
              "      <th>4</th>\n",
              "      <td>5</td>\n",
              "      <td>B006K2ZZ7K</td>\n",
              "      <td>A1UQRSCLF8GW1T</td>\n",
              "      <td>Michael D. Bigham \"M. Wassir\"</td>\n",
              "      <td>0</td>\n",
              "      <td>0</td>\n",
              "      <td>5</td>\n",
              "      <td>1350777600</td>\n",
              "      <td>Great taffy</td>\n",
              "      <td>Great taffy at a great price.  There was a wid...</td>\n",
              "    </tr>\n",
              "    <tr>\n",
              "      <th>...</th>\n",
              "      <td>...</td>\n",
              "      <td>...</td>\n",
              "      <td>...</td>\n",
              "      <td>...</td>\n",
              "      <td>...</td>\n",
              "      <td>...</td>\n",
              "      <td>...</td>\n",
              "      <td>...</td>\n",
              "      <td>...</td>\n",
              "      <td>...</td>\n",
              "    </tr>\n",
              "    <tr>\n",
              "      <th>6258</th>\n",
              "      <td>6259</td>\n",
              "      <td>B000E65OF6</td>\n",
              "      <td>A3T1O6VEKRUM0X</td>\n",
              "      <td>Steve B. Meinel</td>\n",
              "      <td>0</td>\n",
              "      <td>0</td>\n",
              "      <td>5</td>\n",
              "      <td>1238112000</td>\n",
              "      <td>Flawless herbal tea</td>\n",
              "      <td>Sleepytime tea is one of those teas that can a...</td>\n",
              "    </tr>\n",
              "    <tr>\n",
              "      <th>6259</th>\n",
              "      <td>6260</td>\n",
              "      <td>B000E65OF6</td>\n",
              "      <td>A281NPSIMI1C2R</td>\n",
              "      <td>Rebecca of Amazon \"The Rebecca Review\"</td>\n",
              "      <td>0</td>\n",
              "      <td>0</td>\n",
              "      <td>5</td>\n",
              "      <td>1211932800</td>\n",
              "      <td>Perfect for the Evening</td>\n",
              "      <td>Valerian and Chamomile are blended with spearm...</td>\n",
              "    </tr>\n",
              "    <tr>\n",
              "      <th>6260</th>\n",
              "      <td>6261</td>\n",
              "      <td>B000E65OF6</td>\n",
              "      <td>A1L52S6MPK3117</td>\n",
              "      <td>Kitty Yap</td>\n",
              "      <td>0</td>\n",
              "      <td>0</td>\n",
              "      <td>5</td>\n",
              "      <td>1190678400</td>\n",
              "      <td>Wow, Im Addicted...But It's Great</td>\n",
              "      <td>What a wonderful product!&lt;br /&gt;I can drink it ...</td>\n",
              "    </tr>\n",
              "    <tr>\n",
              "      <th>6261</th>\n",
              "      <td>6262</td>\n",
              "      <td>B000KOSDY6</td>\n",
              "      <td>A3P0HSECT04NZ1</td>\n",
              "      <td>cartr229</td>\n",
              "      <td>3</td>\n",
              "      <td>3</td>\n",
              "      <td>5</td>\n",
              "      <td>1256342400</td>\n",
              "      <td>awesome  corn cake</td>\n",
              "      <td>This product is so great.  My daughter who is ...</td>\n",
              "    </tr>\n",
              "    <tr>\n",
              "      <th>6262</th>\n",
              "      <td>6263</td>\n",
              "      <td>B000KOSDY6</td>\n",
              "      <td>A1ZH9LWMX5UCFJ</td>\n",
              "      <td>K. Stuckey \"kateling\"</td>\n",
              "      <td>3</td>\n",
              "      <td>3</td>\n",
              "      <td>5</td>\n",
              "      <td>1208304000</td>\n",
              "      <td>yumm</td>\n",
              "      <td>None</td>\n",
              "    </tr>\n",
              "  </tbody>\n",
              "</table>\n",
              "<p>6263 rows × 10 columns</p>\n",
              "</div>\n",
              "      <button class=\"colab-df-convert\" onclick=\"convertToInteractive('df-0b653088-37b3-4abd-864f-fb6aca270f24')\"\n",
              "              title=\"Convert this dataframe to an interactive table.\"\n",
              "              style=\"display:none;\">\n",
              "        \n",
              "  <svg xmlns=\"http://www.w3.org/2000/svg\" height=\"24px\"viewBox=\"0 0 24 24\"\n",
              "       width=\"24px\">\n",
              "    <path d=\"M0 0h24v24H0V0z\" fill=\"none\"/>\n",
              "    <path d=\"M18.56 5.44l.94 2.06.94-2.06 2.06-.94-2.06-.94-.94-2.06-.94 2.06-2.06.94zm-11 1L8.5 8.5l.94-2.06 2.06-.94-2.06-.94L8.5 2.5l-.94 2.06-2.06.94zm10 10l.94 2.06.94-2.06 2.06-.94-2.06-.94-.94-2.06-.94 2.06-2.06.94z\"/><path d=\"M17.41 7.96l-1.37-1.37c-.4-.4-.92-.59-1.43-.59-.52 0-1.04.2-1.43.59L10.3 9.45l-7.72 7.72c-.78.78-.78 2.05 0 2.83L4 21.41c.39.39.9.59 1.41.59.51 0 1.02-.2 1.41-.59l7.78-7.78 2.81-2.81c.8-.78.8-2.07 0-2.86zM5.41 20L4 18.59l7.72-7.72 1.47 1.35L5.41 20z\"/>\n",
              "  </svg>\n",
              "      </button>\n",
              "      \n",
              "  <style>\n",
              "    .colab-df-container {\n",
              "      display:flex;\n",
              "      flex-wrap:wrap;\n",
              "      gap: 12px;\n",
              "    }\n",
              "\n",
              "    .colab-df-convert {\n",
              "      background-color: #E8F0FE;\n",
              "      border: none;\n",
              "      border-radius: 50%;\n",
              "      cursor: pointer;\n",
              "      display: none;\n",
              "      fill: #1967D2;\n",
              "      height: 32px;\n",
              "      padding: 0 0 0 0;\n",
              "      width: 32px;\n",
              "    }\n",
              "\n",
              "    .colab-df-convert:hover {\n",
              "      background-color: #E2EBFA;\n",
              "      box-shadow: 0px 1px 2px rgba(60, 64, 67, 0.3), 0px 1px 3px 1px rgba(60, 64, 67, 0.15);\n",
              "      fill: #174EA6;\n",
              "    }\n",
              "\n",
              "    [theme=dark] .colab-df-convert {\n",
              "      background-color: #3B4455;\n",
              "      fill: #D2E3FC;\n",
              "    }\n",
              "\n",
              "    [theme=dark] .colab-df-convert:hover {\n",
              "      background-color: #434B5C;\n",
              "      box-shadow: 0px 1px 3px 1px rgba(0, 0, 0, 0.15);\n",
              "      filter: drop-shadow(0px 1px 2px rgba(0, 0, 0, 0.3));\n",
              "      fill: #FFFFFF;\n",
              "    }\n",
              "  </style>\n",
              "\n",
              "      <script>\n",
              "        const buttonEl =\n",
              "          document.querySelector('#df-0b653088-37b3-4abd-864f-fb6aca270f24 button.colab-df-convert');\n",
              "        buttonEl.style.display =\n",
              "          google.colab.kernel.accessAllowed ? 'block' : 'none';\n",
              "\n",
              "        async function convertToInteractive(key) {\n",
              "          const element = document.querySelector('#df-0b653088-37b3-4abd-864f-fb6aca270f24');\n",
              "          const dataTable =\n",
              "            await google.colab.kernel.invokeFunction('convertToInteractive',\n",
              "                                                     [key], {});\n",
              "          if (!dataTable) return;\n",
              "\n",
              "          const docLinkHtml = 'Like what you see? Visit the ' +\n",
              "            '<a target=\"_blank\" href=https://colab.research.google.com/notebooks/data_table.ipynb>data table notebook</a>'\n",
              "            + ' to learn more about interactive tables.';\n",
              "          element.innerHTML = '';\n",
              "          dataTable['output_type'] = 'display_data';\n",
              "          await google.colab.output.renderOutput(dataTable, element);\n",
              "          const docLink = document.createElement('div');\n",
              "          docLink.innerHTML = docLinkHtml;\n",
              "          element.appendChild(docLink);\n",
              "        }\n",
              "      </script>\n",
              "    </div>\n",
              "  </div>\n",
              "  "
            ]
          },
          "metadata": {},
          "execution_count": 5
        }
      ],
      "source": [
        "import pandas as pd\n",
        "\n",
        "# Import the dataset from a CSV file, handling common errors\n",
        "da1 = pd.read_csv(\"Reviews.csv\", encoding='utf-8', engine='python', error_bad_lines=False, warn_bad_lines=True, delimiter=',')\n",
        "da1"
      ],
      "id": "3def9d16"
    },
    {
      "cell_type": "code",
      "execution_count": null,
      "metadata": {
        "id": "0e8b3a51"
      },
      "outputs": [],
      "source": [
        "da1=da1.drop([\"UserId\",\"ProfileName\",\"HelpfulnessNumerator\",\"HelpfulnessDenominator\",\"Time\",\"Summary\"], axis=1)"
      ],
      "id": "0e8b3a51"
    },
    {
      "cell_type": "code",
      "execution_count": null,
      "metadata": {
        "id": "2cb02b8e",
        "colab": {
          "base_uri": "https://localhost:8080/",
          "height": 1000
        },
        "outputId": "d9e7f14d-201b-4821-b924-572c88c7f1eb"
      },
      "outputs": [
        {
          "output_type": "stream",
          "name": "stderr",
          "text": [
            "<ipython-input-7-ab8760c859d8>:1: FutureWarning: The error_bad_lines argument has been deprecated and will be removed in a future version. Use on_bad_lines in the future.\n",
            "\n",
            "\n",
            "  da2= pd.read_csv(\"Datafiniti_Amazon_Consumer_Reviews_of_Amazon_Products_May19.csv\", encoding='utf-8', engine='python', error_bad_lines=False, warn_bad_lines=True, delimiter=',')\n",
            "<ipython-input-7-ab8760c859d8>:1: FutureWarning: The warn_bad_lines argument has been deprecated and will be removed in a future version. Use on_bad_lines in the future.\n",
            "\n",
            "\n",
            "  da2= pd.read_csv(\"Datafiniti_Amazon_Consumer_Reviews_of_Amazon_Products_May19.csv\", encoding='utf-8', engine='python', error_bad_lines=False, warn_bad_lines=True, delimiter=',')\n",
            "Skipping line 3950: unexpected end of data\n"
          ]
        },
        {
          "output_type": "execute_result",
          "data": {
            "text/plain": [
              "                        id             dateAdded           dateUpdated  \\\n",
              "0     AVpgNzjwLJeJML43Kpxn  2015-10-30T08:59:32Z  2019-04-25T09:08:16Z   \n",
              "1     AVpgNzjwLJeJML43Kpxn  2015-10-30T08:59:32Z  2019-04-25T09:08:16Z   \n",
              "2     AVpgNzjwLJeJML43Kpxn  2015-10-30T08:59:32Z  2019-04-25T09:08:16Z   \n",
              "3     AVpgNzjwLJeJML43Kpxn  2015-10-30T08:59:32Z  2019-04-25T09:08:16Z   \n",
              "4     AVpgNzjwLJeJML43Kpxn  2015-10-30T08:59:32Z  2019-04-25T09:08:16Z   \n",
              "...                    ...                   ...                   ...   \n",
              "3943  AVpgNzjwLJeJML43Kpxn  2015-10-30T08:59:32Z  2019-04-25T09:08:16Z   \n",
              "3944  AVpgNzjwLJeJML43Kpxn  2015-10-30T08:59:32Z  2019-04-25T09:08:16Z   \n",
              "3945  AVpgNzjwLJeJML43Kpxn  2015-10-30T08:59:32Z  2019-04-25T09:08:16Z   \n",
              "3946  AVpgNzjwLJeJML43Kpxn  2015-10-30T08:59:32Z  2019-04-25T09:08:16Z   \n",
              "3947  AVpgNzjwLJeJML43Kpxn  2015-10-30T08:59:32Z  2019-04-25T09:08:16Z   \n",
              "\n",
              "                                                   name  \\\n",
              "0     AmazonBasics AAA Performance Alkaline Batterie...   \n",
              "1     AmazonBasics AAA Performance Alkaline Batterie...   \n",
              "2     AmazonBasics AAA Performance Alkaline Batterie...   \n",
              "3     AmazonBasics AAA Performance Alkaline Batterie...   \n",
              "4     AmazonBasics AAA Performance Alkaline Batterie...   \n",
              "...                                                 ...   \n",
              "3943  AmazonBasics AAA Performance Alkaline Batterie...   \n",
              "3944  AmazonBasics AAA Performance Alkaline Batterie...   \n",
              "3945  AmazonBasics AAA Performance Alkaline Batterie...   \n",
              "3946  AmazonBasics AAA Performance Alkaline Batterie...   \n",
              "3947  AmazonBasics AAA Performance Alkaline Batterie...   \n",
              "\n",
              "                      asins         brand  \\\n",
              "0     B00QWO9P0O,B00LH3DMUO  Amazonbasics   \n",
              "1     B00QWO9P0O,B00LH3DMUO  Amazonbasics   \n",
              "2     B00QWO9P0O,B00LH3DMUO  Amazonbasics   \n",
              "3     B00QWO9P0O,B00LH3DMUO  Amazonbasics   \n",
              "4     B00QWO9P0O,B00LH3DMUO  Amazonbasics   \n",
              "...                     ...           ...   \n",
              "3943  B00QWO9P0O,B00LH3DMUO  Amazonbasics   \n",
              "3944  B00QWO9P0O,B00LH3DMUO  Amazonbasics   \n",
              "3945  B00QWO9P0O,B00LH3DMUO  Amazonbasics   \n",
              "3946  B00QWO9P0O,B00LH3DMUO  Amazonbasics   \n",
              "3947  B00QWO9P0O,B00LH3DMUO  Amazonbasics   \n",
              "\n",
              "                                             categories primaryCategories  \\\n",
              "0     AA,AAA,Health,Electronics,Health & Household,C...   Health & Beauty   \n",
              "1     AA,AAA,Health,Electronics,Health & Household,C...   Health & Beauty   \n",
              "2     AA,AAA,Health,Electronics,Health & Household,C...   Health & Beauty   \n",
              "3     AA,AAA,Health,Electronics,Health & Household,C...   Health & Beauty   \n",
              "4     AA,AAA,Health,Electronics,Health & Household,C...   Health & Beauty   \n",
              "...                                                 ...               ...   \n",
              "3943  AA,AAA,Health,Electronics,Health & Household,C...   Health & Beauty   \n",
              "3944  AA,AAA,Health,Electronics,Health & Household,C...   Health & Beauty   \n",
              "3945  AA,AAA,Health,Electronics,Health & Household,C...   Health & Beauty   \n",
              "3946  AA,AAA,Health,Electronics,Health & Household,C...   Health & Beauty   \n",
              "3947  AA,AAA,Health,Electronics,Health & Household,C...   Health & Beauty   \n",
              "\n",
              "                                              imageURLs  \\\n",
              "0     https://images-na.ssl-images-amazon.com/images...   \n",
              "1     https://images-na.ssl-images-amazon.com/images...   \n",
              "2     https://images-na.ssl-images-amazon.com/images...   \n",
              "3     https://images-na.ssl-images-amazon.com/images...   \n",
              "4     https://images-na.ssl-images-amazon.com/images...   \n",
              "...                                                 ...   \n",
              "3943  https://images-na.ssl-images-amazon.com/images...   \n",
              "3944  https://images-na.ssl-images-amazon.com/images...   \n",
              "3945  https://images-na.ssl-images-amazon.com/images...   \n",
              "3946  https://images-na.ssl-images-amazon.com/images...   \n",
              "3947  https://images-na.ssl-images-amazon.com/images...   \n",
              "\n",
              "                                                   keys  ...  \\\n",
              "0     amazonbasics/hl002619,amazonbasicsaaaperforman...  ...   \n",
              "1     amazonbasics/hl002619,amazonbasicsaaaperforman...  ...   \n",
              "2     amazonbasics/hl002619,amazonbasicsaaaperforman...  ...   \n",
              "3     amazonbasics/hl002619,amazonbasicsaaaperforman...  ...   \n",
              "4     amazonbasics/hl002619,amazonbasicsaaaperforman...  ...   \n",
              "...                                                 ...  ...   \n",
              "3943  amazonbasics/hl002619,amazonbasicsaaaperforman...  ...   \n",
              "3944  amazonbasics/hl002619,amazonbasicsaaaperforman...  ...   \n",
              "3945  amazonbasics/hl002619,amazonbasicsaaaperforman...  ...   \n",
              "3946  amazonbasics/hl002619,amazonbasicsaaaperforman...  ...   \n",
              "3947  amazonbasics/hl002619,amazonbasicsaaaperforman...  ...   \n",
              "\n",
              "     reviews.didPurchase reviews.doRecommend reviews.id reviews.numHelpful  \\\n",
              "0                    NaN                 NaN        NaN                NaN   \n",
              "1                    NaN                 NaN        NaN                NaN   \n",
              "2                    NaN                 NaN        NaN                NaN   \n",
              "3                    NaN                 NaN        NaN                NaN   \n",
              "4                    NaN                 NaN        NaN                NaN   \n",
              "...                  ...                 ...        ...                ...   \n",
              "3943                 NaN                 NaN        NaN                NaN   \n",
              "3944                 NaN                 NaN        NaN                NaN   \n",
              "3945                 NaN                 NaN        NaN                NaN   \n",
              "3946                 NaN                 NaN        NaN                NaN   \n",
              "3947                 NaN                 NaN        NaN                NaN   \n",
              "\n",
              "      reviews.rating                                 reviews.sourceURLs  \\\n",
              "0                  3  https://www.amazon.com/product-reviews/B00QWO9...   \n",
              "1                  4  https://www.amazon.com/product-reviews/B00QWO9...   \n",
              "2                  5  https://www.amazon.com/product-reviews/B00QWO9...   \n",
              "3                  5  https://www.amazon.com/product-reviews/B00QWO9...   \n",
              "4                  5  https://www.amazon.com/product-reviews/B00QWO9...   \n",
              "...              ...                                                ...   \n",
              "3943               4  https://www.amazon.com/product-reviews/B00QWO9...   \n",
              "3944               4  https://www.amazon.com/product-reviews/B00QWO9...   \n",
              "3945               4  https://www.amazon.com/product-reviews/B00QWO9...   \n",
              "3946               4  https://www.amazon.com/product-reviews/B00QWO9...   \n",
              "3947               4  https://www.amazon.com/product-reviews/B00QWO9...   \n",
              "\n",
              "                                           reviews.text  \\\n",
              "0     I order 3 of them and one of the item is bad q...   \n",
              "1     Bulk is always the less expensive way to go fo...   \n",
              "2     Well they are not Duracell but for the price i...   \n",
              "3     Seem to work as well as name brand batteries a...   \n",
              "4     These batteries are very long lasting the pric...   \n",
              "...                                                 ...   \n",
              "3943                                               good   \n",
              "3944                                               Good   \n",
              "3945                                               Good   \n",
              "3946                                               Good   \n",
              "3947                                               good   \n",
              "\n",
              "                                          reviews.title   reviews.username  \\\n",
              "0     ... 3 of them and one of the item is bad quali...         Byger yang   \n",
              "1     ... always the less expensive way to go for pr...               ByMG   \n",
              "2     ... are not Duracell but for the price i am ha...   BySharon Lambert   \n",
              "3     ... as well as name brand batteries at a much ...      Bymark sexson   \n",
              "4     ... batteries are very long lasting the price ...            Bylinda   \n",
              "...                                                 ...                ...   \n",
              "3943                                         Four Stars   Bygraur vladimir   \n",
              "3944                                         Four Stars  ByGordon Phillips   \n",
              "3945                                         Four Stars          Bysunsafe   \n",
              "3946                                         Four Stars   ByDave Holverson   \n",
              "3947                                         Four Stars       ByAshley Sue   \n",
              "\n",
              "                                             sourceURLs  \n",
              "0     https://www.barcodable.com/upc/841710106442,ht...  \n",
              "1     https://www.barcodable.com/upc/841710106442,ht...  \n",
              "2     https://www.barcodable.com/upc/841710106442,ht...  \n",
              "3     https://www.barcodable.com/upc/841710106442,ht...  \n",
              "4     https://www.barcodable.com/upc/841710106442,ht...  \n",
              "...                                                 ...  \n",
              "3943  https://www.barcodable.com/upc/841710106442,ht...  \n",
              "3944  https://www.barcodable.com/upc/841710106442,ht...  \n",
              "3945  https://www.barcodable.com/upc/841710106442,ht...  \n",
              "3946  https://www.barcodable.com/upc/841710106442,ht...  \n",
              "3947  https://www.barcodable.com/upc/841710106442,ht...  \n",
              "\n",
              "[3948 rows x 24 columns]"
            ],
            "text/html": [
              "\n",
              "  <div id=\"df-ddee57f7-5d6d-4223-ac78-313c67aba84b\">\n",
              "    <div class=\"colab-df-container\">\n",
              "      <div>\n",
              "<style scoped>\n",
              "    .dataframe tbody tr th:only-of-type {\n",
              "        vertical-align: middle;\n",
              "    }\n",
              "\n",
              "    .dataframe tbody tr th {\n",
              "        vertical-align: top;\n",
              "    }\n",
              "\n",
              "    .dataframe thead th {\n",
              "        text-align: right;\n",
              "    }\n",
              "</style>\n",
              "<table border=\"1\" class=\"dataframe\">\n",
              "  <thead>\n",
              "    <tr style=\"text-align: right;\">\n",
              "      <th></th>\n",
              "      <th>id</th>\n",
              "      <th>dateAdded</th>\n",
              "      <th>dateUpdated</th>\n",
              "      <th>name</th>\n",
              "      <th>asins</th>\n",
              "      <th>brand</th>\n",
              "      <th>categories</th>\n",
              "      <th>primaryCategories</th>\n",
              "      <th>imageURLs</th>\n",
              "      <th>keys</th>\n",
              "      <th>...</th>\n",
              "      <th>reviews.didPurchase</th>\n",
              "      <th>reviews.doRecommend</th>\n",
              "      <th>reviews.id</th>\n",
              "      <th>reviews.numHelpful</th>\n",
              "      <th>reviews.rating</th>\n",
              "      <th>reviews.sourceURLs</th>\n",
              "      <th>reviews.text</th>\n",
              "      <th>reviews.title</th>\n",
              "      <th>reviews.username</th>\n",
              "      <th>sourceURLs</th>\n",
              "    </tr>\n",
              "  </thead>\n",
              "  <tbody>\n",
              "    <tr>\n",
              "      <th>0</th>\n",
              "      <td>AVpgNzjwLJeJML43Kpxn</td>\n",
              "      <td>2015-10-30T08:59:32Z</td>\n",
              "      <td>2019-04-25T09:08:16Z</td>\n",
              "      <td>AmazonBasics AAA Performance Alkaline Batterie...</td>\n",
              "      <td>B00QWO9P0O,B00LH3DMUO</td>\n",
              "      <td>Amazonbasics</td>\n",
              "      <td>AA,AAA,Health,Electronics,Health &amp; Household,C...</td>\n",
              "      <td>Health &amp; Beauty</td>\n",
              "      <td>https://images-na.ssl-images-amazon.com/images...</td>\n",
              "      <td>amazonbasics/hl002619,amazonbasicsaaaperforman...</td>\n",
              "      <td>...</td>\n",
              "      <td>NaN</td>\n",
              "      <td>NaN</td>\n",
              "      <td>NaN</td>\n",
              "      <td>NaN</td>\n",
              "      <td>3</td>\n",
              "      <td>https://www.amazon.com/product-reviews/B00QWO9...</td>\n",
              "      <td>I order 3 of them and one of the item is bad q...</td>\n",
              "      <td>... 3 of them and one of the item is bad quali...</td>\n",
              "      <td>Byger yang</td>\n",
              "      <td>https://www.barcodable.com/upc/841710106442,ht...</td>\n",
              "    </tr>\n",
              "    <tr>\n",
              "      <th>1</th>\n",
              "      <td>AVpgNzjwLJeJML43Kpxn</td>\n",
              "      <td>2015-10-30T08:59:32Z</td>\n",
              "      <td>2019-04-25T09:08:16Z</td>\n",
              "      <td>AmazonBasics AAA Performance Alkaline Batterie...</td>\n",
              "      <td>B00QWO9P0O,B00LH3DMUO</td>\n",
              "      <td>Amazonbasics</td>\n",
              "      <td>AA,AAA,Health,Electronics,Health &amp; Household,C...</td>\n",
              "      <td>Health &amp; Beauty</td>\n",
              "      <td>https://images-na.ssl-images-amazon.com/images...</td>\n",
              "      <td>amazonbasics/hl002619,amazonbasicsaaaperforman...</td>\n",
              "      <td>...</td>\n",
              "      <td>NaN</td>\n",
              "      <td>NaN</td>\n",
              "      <td>NaN</td>\n",
              "      <td>NaN</td>\n",
              "      <td>4</td>\n",
              "      <td>https://www.amazon.com/product-reviews/B00QWO9...</td>\n",
              "      <td>Bulk is always the less expensive way to go fo...</td>\n",
              "      <td>... always the less expensive way to go for pr...</td>\n",
              "      <td>ByMG</td>\n",
              "      <td>https://www.barcodable.com/upc/841710106442,ht...</td>\n",
              "    </tr>\n",
              "    <tr>\n",
              "      <th>2</th>\n",
              "      <td>AVpgNzjwLJeJML43Kpxn</td>\n",
              "      <td>2015-10-30T08:59:32Z</td>\n",
              "      <td>2019-04-25T09:08:16Z</td>\n",
              "      <td>AmazonBasics AAA Performance Alkaline Batterie...</td>\n",
              "      <td>B00QWO9P0O,B00LH3DMUO</td>\n",
              "      <td>Amazonbasics</td>\n",
              "      <td>AA,AAA,Health,Electronics,Health &amp; Household,C...</td>\n",
              "      <td>Health &amp; Beauty</td>\n",
              "      <td>https://images-na.ssl-images-amazon.com/images...</td>\n",
              "      <td>amazonbasics/hl002619,amazonbasicsaaaperforman...</td>\n",
              "      <td>...</td>\n",
              "      <td>NaN</td>\n",
              "      <td>NaN</td>\n",
              "      <td>NaN</td>\n",
              "      <td>NaN</td>\n",
              "      <td>5</td>\n",
              "      <td>https://www.amazon.com/product-reviews/B00QWO9...</td>\n",
              "      <td>Well they are not Duracell but for the price i...</td>\n",
              "      <td>... are not Duracell but for the price i am ha...</td>\n",
              "      <td>BySharon Lambert</td>\n",
              "      <td>https://www.barcodable.com/upc/841710106442,ht...</td>\n",
              "    </tr>\n",
              "    <tr>\n",
              "      <th>3</th>\n",
              "      <td>AVpgNzjwLJeJML43Kpxn</td>\n",
              "      <td>2015-10-30T08:59:32Z</td>\n",
              "      <td>2019-04-25T09:08:16Z</td>\n",
              "      <td>AmazonBasics AAA Performance Alkaline Batterie...</td>\n",
              "      <td>B00QWO9P0O,B00LH3DMUO</td>\n",
              "      <td>Amazonbasics</td>\n",
              "      <td>AA,AAA,Health,Electronics,Health &amp; Household,C...</td>\n",
              "      <td>Health &amp; Beauty</td>\n",
              "      <td>https://images-na.ssl-images-amazon.com/images...</td>\n",
              "      <td>amazonbasics/hl002619,amazonbasicsaaaperforman...</td>\n",
              "      <td>...</td>\n",
              "      <td>NaN</td>\n",
              "      <td>NaN</td>\n",
              "      <td>NaN</td>\n",
              "      <td>NaN</td>\n",
              "      <td>5</td>\n",
              "      <td>https://www.amazon.com/product-reviews/B00QWO9...</td>\n",
              "      <td>Seem to work as well as name brand batteries a...</td>\n",
              "      <td>... as well as name brand batteries at a much ...</td>\n",
              "      <td>Bymark sexson</td>\n",
              "      <td>https://www.barcodable.com/upc/841710106442,ht...</td>\n",
              "    </tr>\n",
              "    <tr>\n",
              "      <th>4</th>\n",
              "      <td>AVpgNzjwLJeJML43Kpxn</td>\n",
              "      <td>2015-10-30T08:59:32Z</td>\n",
              "      <td>2019-04-25T09:08:16Z</td>\n",
              "      <td>AmazonBasics AAA Performance Alkaline Batterie...</td>\n",
              "      <td>B00QWO9P0O,B00LH3DMUO</td>\n",
              "      <td>Amazonbasics</td>\n",
              "      <td>AA,AAA,Health,Electronics,Health &amp; Household,C...</td>\n",
              "      <td>Health &amp; Beauty</td>\n",
              "      <td>https://images-na.ssl-images-amazon.com/images...</td>\n",
              "      <td>amazonbasics/hl002619,amazonbasicsaaaperforman...</td>\n",
              "      <td>...</td>\n",
              "      <td>NaN</td>\n",
              "      <td>NaN</td>\n",
              "      <td>NaN</td>\n",
              "      <td>NaN</td>\n",
              "      <td>5</td>\n",
              "      <td>https://www.amazon.com/product-reviews/B00QWO9...</td>\n",
              "      <td>These batteries are very long lasting the pric...</td>\n",
              "      <td>... batteries are very long lasting the price ...</td>\n",
              "      <td>Bylinda</td>\n",
              "      <td>https://www.barcodable.com/upc/841710106442,ht...</td>\n",
              "    </tr>\n",
              "    <tr>\n",
              "      <th>...</th>\n",
              "      <td>...</td>\n",
              "      <td>...</td>\n",
              "      <td>...</td>\n",
              "      <td>...</td>\n",
              "      <td>...</td>\n",
              "      <td>...</td>\n",
              "      <td>...</td>\n",
              "      <td>...</td>\n",
              "      <td>...</td>\n",
              "      <td>...</td>\n",
              "      <td>...</td>\n",
              "      <td>...</td>\n",
              "      <td>...</td>\n",
              "      <td>...</td>\n",
              "      <td>...</td>\n",
              "      <td>...</td>\n",
              "      <td>...</td>\n",
              "      <td>...</td>\n",
              "      <td>...</td>\n",
              "      <td>...</td>\n",
              "      <td>...</td>\n",
              "    </tr>\n",
              "    <tr>\n",
              "      <th>3943</th>\n",
              "      <td>AVpgNzjwLJeJML43Kpxn</td>\n",
              "      <td>2015-10-30T08:59:32Z</td>\n",
              "      <td>2019-04-25T09:08:16Z</td>\n",
              "      <td>AmazonBasics AAA Performance Alkaline Batterie...</td>\n",
              "      <td>B00QWO9P0O,B00LH3DMUO</td>\n",
              "      <td>Amazonbasics</td>\n",
              "      <td>AA,AAA,Health,Electronics,Health &amp; Household,C...</td>\n",
              "      <td>Health &amp; Beauty</td>\n",
              "      <td>https://images-na.ssl-images-amazon.com/images...</td>\n",
              "      <td>amazonbasics/hl002619,amazonbasicsaaaperforman...</td>\n",
              "      <td>...</td>\n",
              "      <td>NaN</td>\n",
              "      <td>NaN</td>\n",
              "      <td>NaN</td>\n",
              "      <td>NaN</td>\n",
              "      <td>4</td>\n",
              "      <td>https://www.amazon.com/product-reviews/B00QWO9...</td>\n",
              "      <td>good</td>\n",
              "      <td>Four Stars</td>\n",
              "      <td>Bygraur vladimir</td>\n",
              "      <td>https://www.barcodable.com/upc/841710106442,ht...</td>\n",
              "    </tr>\n",
              "    <tr>\n",
              "      <th>3944</th>\n",
              "      <td>AVpgNzjwLJeJML43Kpxn</td>\n",
              "      <td>2015-10-30T08:59:32Z</td>\n",
              "      <td>2019-04-25T09:08:16Z</td>\n",
              "      <td>AmazonBasics AAA Performance Alkaline Batterie...</td>\n",
              "      <td>B00QWO9P0O,B00LH3DMUO</td>\n",
              "      <td>Amazonbasics</td>\n",
              "      <td>AA,AAA,Health,Electronics,Health &amp; Household,C...</td>\n",
              "      <td>Health &amp; Beauty</td>\n",
              "      <td>https://images-na.ssl-images-amazon.com/images...</td>\n",
              "      <td>amazonbasics/hl002619,amazonbasicsaaaperforman...</td>\n",
              "      <td>...</td>\n",
              "      <td>NaN</td>\n",
              "      <td>NaN</td>\n",
              "      <td>NaN</td>\n",
              "      <td>NaN</td>\n",
              "      <td>4</td>\n",
              "      <td>https://www.amazon.com/product-reviews/B00QWO9...</td>\n",
              "      <td>Good</td>\n",
              "      <td>Four Stars</td>\n",
              "      <td>ByGordon Phillips</td>\n",
              "      <td>https://www.barcodable.com/upc/841710106442,ht...</td>\n",
              "    </tr>\n",
              "    <tr>\n",
              "      <th>3945</th>\n",
              "      <td>AVpgNzjwLJeJML43Kpxn</td>\n",
              "      <td>2015-10-30T08:59:32Z</td>\n",
              "      <td>2019-04-25T09:08:16Z</td>\n",
              "      <td>AmazonBasics AAA Performance Alkaline Batterie...</td>\n",
              "      <td>B00QWO9P0O,B00LH3DMUO</td>\n",
              "      <td>Amazonbasics</td>\n",
              "      <td>AA,AAA,Health,Electronics,Health &amp; Household,C...</td>\n",
              "      <td>Health &amp; Beauty</td>\n",
              "      <td>https://images-na.ssl-images-amazon.com/images...</td>\n",
              "      <td>amazonbasics/hl002619,amazonbasicsaaaperforman...</td>\n",
              "      <td>...</td>\n",
              "      <td>NaN</td>\n",
              "      <td>NaN</td>\n",
              "      <td>NaN</td>\n",
              "      <td>NaN</td>\n",
              "      <td>4</td>\n",
              "      <td>https://www.amazon.com/product-reviews/B00QWO9...</td>\n",
              "      <td>Good</td>\n",
              "      <td>Four Stars</td>\n",
              "      <td>Bysunsafe</td>\n",
              "      <td>https://www.barcodable.com/upc/841710106442,ht...</td>\n",
              "    </tr>\n",
              "    <tr>\n",
              "      <th>3946</th>\n",
              "      <td>AVpgNzjwLJeJML43Kpxn</td>\n",
              "      <td>2015-10-30T08:59:32Z</td>\n",
              "      <td>2019-04-25T09:08:16Z</td>\n",
              "      <td>AmazonBasics AAA Performance Alkaline Batterie...</td>\n",
              "      <td>B00QWO9P0O,B00LH3DMUO</td>\n",
              "      <td>Amazonbasics</td>\n",
              "      <td>AA,AAA,Health,Electronics,Health &amp; Household,C...</td>\n",
              "      <td>Health &amp; Beauty</td>\n",
              "      <td>https://images-na.ssl-images-amazon.com/images...</td>\n",
              "      <td>amazonbasics/hl002619,amazonbasicsaaaperforman...</td>\n",
              "      <td>...</td>\n",
              "      <td>NaN</td>\n",
              "      <td>NaN</td>\n",
              "      <td>NaN</td>\n",
              "      <td>NaN</td>\n",
              "      <td>4</td>\n",
              "      <td>https://www.amazon.com/product-reviews/B00QWO9...</td>\n",
              "      <td>Good</td>\n",
              "      <td>Four Stars</td>\n",
              "      <td>ByDave Holverson</td>\n",
              "      <td>https://www.barcodable.com/upc/841710106442,ht...</td>\n",
              "    </tr>\n",
              "    <tr>\n",
              "      <th>3947</th>\n",
              "      <td>AVpgNzjwLJeJML43Kpxn</td>\n",
              "      <td>2015-10-30T08:59:32Z</td>\n",
              "      <td>2019-04-25T09:08:16Z</td>\n",
              "      <td>AmazonBasics AAA Performance Alkaline Batterie...</td>\n",
              "      <td>B00QWO9P0O,B00LH3DMUO</td>\n",
              "      <td>Amazonbasics</td>\n",
              "      <td>AA,AAA,Health,Electronics,Health &amp; Household,C...</td>\n",
              "      <td>Health &amp; Beauty</td>\n",
              "      <td>https://images-na.ssl-images-amazon.com/images...</td>\n",
              "      <td>amazonbasics/hl002619,amazonbasicsaaaperforman...</td>\n",
              "      <td>...</td>\n",
              "      <td>NaN</td>\n",
              "      <td>NaN</td>\n",
              "      <td>NaN</td>\n",
              "      <td>NaN</td>\n",
              "      <td>4</td>\n",
              "      <td>https://www.amazon.com/product-reviews/B00QWO9...</td>\n",
              "      <td>good</td>\n",
              "      <td>Four Stars</td>\n",
              "      <td>ByAshley Sue</td>\n",
              "      <td>https://www.barcodable.com/upc/841710106442,ht...</td>\n",
              "    </tr>\n",
              "  </tbody>\n",
              "</table>\n",
              "<p>3948 rows × 24 columns</p>\n",
              "</div>\n",
              "      <button class=\"colab-df-convert\" onclick=\"convertToInteractive('df-ddee57f7-5d6d-4223-ac78-313c67aba84b')\"\n",
              "              title=\"Convert this dataframe to an interactive table.\"\n",
              "              style=\"display:none;\">\n",
              "        \n",
              "  <svg xmlns=\"http://www.w3.org/2000/svg\" height=\"24px\"viewBox=\"0 0 24 24\"\n",
              "       width=\"24px\">\n",
              "    <path d=\"M0 0h24v24H0V0z\" fill=\"none\"/>\n",
              "    <path d=\"M18.56 5.44l.94 2.06.94-2.06 2.06-.94-2.06-.94-.94-2.06-.94 2.06-2.06.94zm-11 1L8.5 8.5l.94-2.06 2.06-.94-2.06-.94L8.5 2.5l-.94 2.06-2.06.94zm10 10l.94 2.06.94-2.06 2.06-.94-2.06-.94-.94-2.06-.94 2.06-2.06.94z\"/><path d=\"M17.41 7.96l-1.37-1.37c-.4-.4-.92-.59-1.43-.59-.52 0-1.04.2-1.43.59L10.3 9.45l-7.72 7.72c-.78.78-.78 2.05 0 2.83L4 21.41c.39.39.9.59 1.41.59.51 0 1.02-.2 1.41-.59l7.78-7.78 2.81-2.81c.8-.78.8-2.07 0-2.86zM5.41 20L4 18.59l7.72-7.72 1.47 1.35L5.41 20z\"/>\n",
              "  </svg>\n",
              "      </button>\n",
              "      \n",
              "  <style>\n",
              "    .colab-df-container {\n",
              "      display:flex;\n",
              "      flex-wrap:wrap;\n",
              "      gap: 12px;\n",
              "    }\n",
              "\n",
              "    .colab-df-convert {\n",
              "      background-color: #E8F0FE;\n",
              "      border: none;\n",
              "      border-radius: 50%;\n",
              "      cursor: pointer;\n",
              "      display: none;\n",
              "      fill: #1967D2;\n",
              "      height: 32px;\n",
              "      padding: 0 0 0 0;\n",
              "      width: 32px;\n",
              "    }\n",
              "\n",
              "    .colab-df-convert:hover {\n",
              "      background-color: #E2EBFA;\n",
              "      box-shadow: 0px 1px 2px rgba(60, 64, 67, 0.3), 0px 1px 3px 1px rgba(60, 64, 67, 0.15);\n",
              "      fill: #174EA6;\n",
              "    }\n",
              "\n",
              "    [theme=dark] .colab-df-convert {\n",
              "      background-color: #3B4455;\n",
              "      fill: #D2E3FC;\n",
              "    }\n",
              "\n",
              "    [theme=dark] .colab-df-convert:hover {\n",
              "      background-color: #434B5C;\n",
              "      box-shadow: 0px 1px 3px 1px rgba(0, 0, 0, 0.15);\n",
              "      filter: drop-shadow(0px 1px 2px rgba(0, 0, 0, 0.3));\n",
              "      fill: #FFFFFF;\n",
              "    }\n",
              "  </style>\n",
              "\n",
              "      <script>\n",
              "        const buttonEl =\n",
              "          document.querySelector('#df-ddee57f7-5d6d-4223-ac78-313c67aba84b button.colab-df-convert');\n",
              "        buttonEl.style.display =\n",
              "          google.colab.kernel.accessAllowed ? 'block' : 'none';\n",
              "\n",
              "        async function convertToInteractive(key) {\n",
              "          const element = document.querySelector('#df-ddee57f7-5d6d-4223-ac78-313c67aba84b');\n",
              "          const dataTable =\n",
              "            await google.colab.kernel.invokeFunction('convertToInteractive',\n",
              "                                                     [key], {});\n",
              "          if (!dataTable) return;\n",
              "\n",
              "          const docLinkHtml = 'Like what you see? Visit the ' +\n",
              "            '<a target=\"_blank\" href=https://colab.research.google.com/notebooks/data_table.ipynb>data table notebook</a>'\n",
              "            + ' to learn more about interactive tables.';\n",
              "          element.innerHTML = '';\n",
              "          dataTable['output_type'] = 'display_data';\n",
              "          await google.colab.output.renderOutput(dataTable, element);\n",
              "          const docLink = document.createElement('div');\n",
              "          docLink.innerHTML = docLinkHtml;\n",
              "          element.appendChild(docLink);\n",
              "        }\n",
              "      </script>\n",
              "    </div>\n",
              "  </div>\n",
              "  "
            ]
          },
          "metadata": {},
          "execution_count": 7
        }
      ],
      "source": [
        "da2= pd.read_csv(\"Datafiniti_Amazon_Consumer_Reviews_of_Amazon_Products_May19.csv\", encoding='utf-8', engine='python', error_bad_lines=False, warn_bad_lines=True, delimiter=',')\n",
        "da2"
      ],
      "id": "2cb02b8e"
    },
    {
      "cell_type": "code",
      "execution_count": null,
      "metadata": {
        "id": "4f31d86a"
      },
      "outputs": [],
      "source": [
        "da2=da2.drop([\"dateAdded\",\"dateUpdated\",\"brand\",\"categories\",\"primaryCategories\",\"imageURLs\",\"keys\",\"reviews.didPurchase\",\"reviews.doRecommend\",\"reviews.id\",\"reviews.numHelpful\",\"reviews.sourceURLs\",\"reviews.username\",\"sourceURLs\"], axis=1)"
      ],
      "id": "4f31d86a"
    },
    {
      "cell_type": "code",
      "execution_count": null,
      "metadata": {
        "id": "10a34f1f"
      },
      "outputs": [],
      "source": [
        "da2 = da2.drop([\"name\",\"manufacturer\",\"manufacturerNumber\",\"reviews.date\",\"reviews.dateSeen\"], axis=1)"
      ],
      "id": "10a34f1f"
    },
    {
      "cell_type": "code",
      "execution_count": null,
      "metadata": {
        "id": "269a80ed"
      },
      "outputs": [],
      "source": [
        "da2=da2.rename(columns={'id':'UserId'})\n",
        "da2=da2.rename(columns={'asins':'ProductId'})\n",
        "da2=da2.rename(columns={'reviews.rating':'Score'})\n",
        "da2=da2.rename(columns={'reviews.title':'Summary'})\n",
        "da2=da2.rename(columns={'reviews.text':'Text'})"
      ],
      "id": "269a80ed"
    },
    {
      "cell_type": "code",
      "execution_count": null,
      "metadata": {
        "id": "43e23d62"
      },
      "outputs": [],
      "source": [
        "da3=pd.concat([da1,da2],axis=0)"
      ],
      "id": "43e23d62"
    },
    {
      "cell_type": "code",
      "execution_count": null,
      "metadata": {
        "id": "d8272655"
      },
      "outputs": [],
      "source": [
        "col=da3[\"Score\"]"
      ],
      "id": "d8272655"
    },
    {
      "cell_type": "code",
      "execution_count": null,
      "metadata": {
        "id": "e0ca257d"
      },
      "outputs": [],
      "source": [
        "v_positive = da3.loc[da3['Score'] == 5]\n",
        "positive = da3.loc[da3['Score'] == 4]\n",
        "neutral= da3.loc[da3['Score'] == 3]\n",
        "negative= da3.loc[da3['Score'] == 2]\n",
        "v_negative= da3.loc[da3['Score'] == 1]"
      ],
      "id": "e0ca257d"
    },
    {
      "cell_type": "code",
      "execution_count": null,
      "metadata": {
        "id": "2c0edd2c"
      },
      "outputs": [],
      "source": [
        "v1_positive=v_positive.iloc[:150000]"
      ],
      "id": "2c0edd2c"
    },
    {
      "cell_type": "code",
      "execution_count": null,
      "metadata": {
        "id": "5a06aaa2"
      },
      "outputs": [],
      "source": [
        "da5=pd.concat([v1_positive,positive],axis=0)"
      ],
      "id": "5a06aaa2"
    },
    {
      "cell_type": "code",
      "execution_count": null,
      "metadata": {
        "id": "10e5cabc"
      },
      "outputs": [],
      "source": [
        "da5=pd.concat([da5,neutral],axis=0)"
      ],
      "id": "10e5cabc"
    },
    {
      "cell_type": "code",
      "execution_count": null,
      "metadata": {
        "id": "f9909f0f"
      },
      "outputs": [],
      "source": [
        "da5=pd.concat([da5,negative],axis=0)"
      ],
      "id": "f9909f0f"
    },
    {
      "cell_type": "code",
      "execution_count": null,
      "metadata": {
        "id": "cbde6ff4"
      },
      "outputs": [],
      "source": [
        "da5=pd.concat([da5,v_negative],axis=0)"
      ],
      "id": "cbde6ff4"
    },
    {
      "cell_type": "code",
      "execution_count": null,
      "metadata": {
        "id": "55ee61de"
      },
      "outputs": [],
      "source": [
        "def sentiments(rating):\n",
        "    if rating == 5:\n",
        "        return \"Very Positive\"\n",
        "    elif rating == 4:\n",
        "        return \"Positive\"\n",
        "    elif rating == 3:\n",
        "        return \"Neutral\"\n",
        "    elif rating == 2:\n",
        "        return \"Negative\"\n",
        "    elif rating == 1:\n",
        "        return \"Very Negative\"\n",
        "\n",
        "# add sentiments to the data\n",
        "da5[\"Sentiment\"] = da5[\"Score\"].apply(sentiments)"
      ],
      "id": "55ee61de"
    },
    {
      "cell_type": "code",
      "execution_count": null,
      "metadata": {
        "id": "9d92d706",
        "colab": {
          "base_uri": "https://localhost:8080/"
        },
        "outputId": "b420498f-e2dc-42c5-faf4-4ff68aee7c03"
      },
      "outputs": [
        {
          "output_type": "stream",
          "name": "stdout",
          "text": [
            "Looking in indexes: https://pypi.org/simple, https://us-python.pkg.dev/colab-wheels/public/simple/\n",
            "Requirement already satisfied: wordcloud in /usr/local/lib/python3.10/dist-packages (1.8.2.2)\n",
            "Requirement already satisfied: numpy>=1.6.1 in /usr/local/lib/python3.10/dist-packages (from wordcloud) (1.22.4)\n",
            "Requirement already satisfied: pillow in /usr/local/lib/python3.10/dist-packages (from wordcloud) (8.4.0)\n",
            "Requirement already satisfied: matplotlib in /usr/local/lib/python3.10/dist-packages (from wordcloud) (3.7.1)\n",
            "Requirement already satisfied: contourpy>=1.0.1 in /usr/local/lib/python3.10/dist-packages (from matplotlib->wordcloud) (1.0.7)\n",
            "Requirement already satisfied: cycler>=0.10 in /usr/local/lib/python3.10/dist-packages (from matplotlib->wordcloud) (0.11.0)\n",
            "Requirement already satisfied: fonttools>=4.22.0 in /usr/local/lib/python3.10/dist-packages (from matplotlib->wordcloud) (4.39.3)\n",
            "Requirement already satisfied: kiwisolver>=1.0.1 in /usr/local/lib/python3.10/dist-packages (from matplotlib->wordcloud) (1.4.4)\n",
            "Requirement already satisfied: packaging>=20.0 in /usr/local/lib/python3.10/dist-packages (from matplotlib->wordcloud) (23.1)\n",
            "Requirement already satisfied: pyparsing>=2.3.1 in /usr/local/lib/python3.10/dist-packages (from matplotlib->wordcloud) (3.0.9)\n",
            "Requirement already satisfied: python-dateutil>=2.7 in /usr/local/lib/python3.10/dist-packages (from matplotlib->wordcloud) (2.8.2)\n",
            "Requirement already satisfied: six>=1.5 in /usr/local/lib/python3.10/dist-packages (from python-dateutil>=2.7->matplotlib->wordcloud) (1.16.0)\n"
          ]
        }
      ],
      "source": [
        "from sklearn.feature_extraction.text import TfidfVectorizer\n",
        "!pip install wordcloud\n",
        "from wordcloud import WordCloud"
      ],
      "id": "9d92d706"
    },
    {
      "cell_type": "code",
      "execution_count": null,
      "metadata": {
        "id": "dce8f2db",
        "colab": {
          "base_uri": "https://localhost:8080/"
        },
        "outputId": "7c78b325-bc5d-4d10-98d3-2f97f8a42510"
      },
      "outputs": [
        {
          "output_type": "stream",
          "name": "stderr",
          "text": [
            "[nltk_data] Downloading package punkt to /root/nltk_data...\n",
            "[nltk_data]   Unzipping tokenizers/punkt.zip.\n",
            "[nltk_data] Downloading package stopwords to /root/nltk_data...\n",
            "[nltk_data]   Unzipping corpora/stopwords.zip.\n"
          ]
        }
      ],
      "source": [
        "import nltk\n",
        "nltk.download('punkt')\n",
        "nltk.download('stopwords')\n",
        "\n",
        "from nltk.corpus import stopwords"
      ],
      "id": "dce8f2db"
    },
    {
      "cell_type": "code",
      "source": [
        "# Remove rows where 'Text' is NaN\n",
        "da5 = da5.dropna(subset=['Text'])\n"
      ],
      "metadata": {
        "id": "IC2h1OpCoAQX"
      },
      "id": "IC2h1OpCoAQX",
      "execution_count": null,
      "outputs": []
    },
    {
      "cell_type": "code",
      "execution_count": null,
      "metadata": {
        "id": "d54a762c"
      },
      "outputs": [],
      "source": [
        "stp_words=stopwords.words('english')\n",
        "\n",
        "def clean_review(review):\n",
        "    if review is not None:\n",
        "        cleanreview=\" \".join(word for word in review.split() if word not in stp_words)\n",
        "        return cleanreview\n",
        "    else:\n",
        "        return None  # Or return an empty string \"\", depending on your needs\n",
        "\n",
        "da5['Text']=da5['Text'].apply(clean_review)\n"
      ],
      "id": "d54a762c"
    },
    {
      "cell_type": "code",
      "execution_count": null,
      "metadata": {
        "id": "8599fc44"
      },
      "outputs": [],
      "source": [
        "from nltk.stem import PorterStemmer\n",
        "ps = PorterStemmer()\n",
        "def stem_text(text):\n",
        "    tokens = text.split()\n",
        "    stemmed_tokens = [ps.stem(token) for token in tokens]\n",
        "    return \" \".join(stemmed_tokens)\n",
        "\n",
        "# Apply stemming on the 'text' column of the data3 dataset\n",
        "da5['text_stemmed'] = da5['Text'].apply(stem_text)\n",
        "\n",
        "# Save the updated dataset\n",
        "da5.to_csv('stemmed_da5.csv', index=False)"
      ],
      "id": "8599fc44"
    },
    {
      "cell_type": "code",
      "execution_count": null,
      "metadata": {
        "id": "d3dc284b"
      },
      "outputs": [],
      "source": [
        "from sklearn.model_selection import train_test_split\n",
        "\n",
        "# Load the dataset\n",
        "data = da5\n",
        "\n",
        "# Split the dataset into training and testing sets\n",
        "train_data, test_data = train_test_split(data, test_size=0.2, random_state=42)\n",
        "\n",
        "# Save the training and testing sets to separate files\n",
        "train_data.to_csv('train.csv', index=False)\n",
        "test_data.to_csv('test.csv', index=False)\n"
      ],
      "id": "d3dc284b"
    },
    {
      "cell_type": "code",
      "execution_count": null,
      "metadata": {
        "id": "180c1181"
      },
      "outputs": [],
      "source": [
        "train= pd.read_csv(\"train.csv\")\n",
        "test= pd.read_csv(\"test.csv\")"
      ],
      "id": "180c1181"
    },
    {
      "cell_type": "code",
      "execution_count": null,
      "metadata": {
        "id": "661fa717"
      },
      "outputs": [],
      "source": [
        "reviews = train.copy()"
      ],
      "id": "661fa717"
    },
    {
      "cell_type": "code",
      "execution_count": null,
      "metadata": {
        "id": "69fadc8c",
        "colab": {
          "base_uri": "https://localhost:8080/"
        },
        "outputId": "c04a72d0-aa5c-456c-a06a-ef8998d6b533"
      },
      "outputs": [
        {
          "output_type": "execute_result",
          "data": {
            "text/plain": [
              "ProductId\n",
              "B00002NCJC               [Why $[...] product available $[...] here?<br ...\n",
              "B000084DVR               [We using food 6 months find excellent! Other ...\n",
              "B0000CERHH               [I hooked it. It's wonderful. Highly recommend...\n",
              "B0000CGFV4               [These shipped day I ordered arrived within 5 ...\n",
              "B0000DC5IY               [I bought brand online Indian grocery store us...\n",
              "                                               ...                        \n",
              "B0092XAMDQ               [This coffee really rich, perfect morning. I o...\n",
              "B0093NIWVO               [Fresh,a great way get little chocolate life w...\n",
              "B009HINRX8               [This one best choices, opinion. I also adore ...\n",
              "B009UOFU20               [This coffee supposedly premium, tastes watery...\n",
              "B00QWO9P0O,B00LH3DMUO    [Not surprised AmazonBasics delivers excellent...\n",
              "Name: Text, Length: 899, dtype: object"
            ]
          },
          "metadata": {},
          "execution_count": 37
        }
      ],
      "source": [
        "# grouped asins and names\n",
        "reviews.groupby(\"ProductId\")[\"Text\"].unique()"
      ],
      "id": "69fadc8c"
    },
    {
      "cell_type": "code",
      "execution_count": null,
      "metadata": {
        "id": "cdf04025"
      },
      "outputs": [],
      "source": [
        "different_names = reviews[reviews[\"ProductId\"] ==\n",
        " \"B00L9EPT8O,B01E6AO69U\"][\"Text\"].unique()\n",
        "for Text in different_names:\n",
        "    print(Text)"
      ],
      "id": "cdf04025"
    },
    {
      "cell_type": "code",
      "execution_count": null,
      "metadata": {
        "id": "a77905a4",
        "colab": {
          "base_uri": "https://localhost:8080/"
        },
        "outputId": "f4e70479-a8d3-4a86-af8a-f4cd6a3f74ce"
      },
      "outputs": [
        {
          "output_type": "execute_result",
          "data": {
            "text/plain": [
              "Series([], Name: Text, dtype: int64)"
            ]
          },
          "metadata": {},
          "execution_count": 39
        }
      ],
      "source": [
        "# checking frequency of name\n",
        "reviews[reviews[\"ProductId\"] == \"B00L9EPT8O,B01E6AO69U\"][\"Text\"].value_counts()"
      ],
      "id": "a77905a4"
    },
    {
      "cell_type": "code",
      "execution_count": null,
      "metadata": {
        "id": "e127e3bd",
        "colab": {
          "base_uri": "https://localhost:8080/"
        },
        "outputId": "d599d216-9bdd-4643-c1a2-bc0272f9aa96"
      },
      "outputs": [
        {
          "output_type": "execute_result",
          "data": {
            "text/plain": [
              "0     Very_Positive\n",
              "1     Very_Positive\n",
              "2     Very_Positive\n",
              "3     Very_Positive\n",
              "4     Very_Positive\n",
              "          ...      \n",
              "95    Very_Negative\n",
              "96    Very_Positive\n",
              "97    Very_Positive\n",
              "98    Very_Positive\n",
              "99    Very_Positive\n",
              "Name: Sentiment, Length: 100, dtype: object"
            ]
          },
          "metadata": {},
          "execution_count": 40
        }
      ],
      "source": [
        "# sentiment classification based on star rating\n",
        "def sentiments(Score):\n",
        "    if (Score == 5):\n",
        "        return \"Very_Positive\"\n",
        "    elif (Score== 4):\n",
        "        return \"Positive\"\n",
        "    elif (Score==3):\n",
        "        return \"Neutral\"\n",
        "    elif (Score==2):\n",
        "        return \"Negative\"\n",
        "    else:\n",
        "        return \"Very_Negative\"\n",
        "\n",
        "# add sentiments to the data\n",
        "train[\"Sentiment\"] = train[\"Score\"].apply(sentiments)\n",
        "test[\"Sentiment\"] =test[\"Score\"].apply(sentiments)\n",
        "train[\"Sentiment\"][:100]"
      ],
      "id": "e127e3bd"
    },
    {
      "cell_type": "code",
      "execution_count": null,
      "metadata": {
        "id": "c588d0a6",
        "colab": {
          "base_uri": "https://localhost:8080/"
        },
        "outputId": "a4f35dad-b0f2-4311-dc7f-d95511cb6257"
      },
      "outputs": [
        {
          "output_type": "stream",
          "name": "stdout",
          "text": [
            "8168 2042\n"
          ]
        }
      ],
      "source": [
        "X_train = train[\"text_stemmed\"]\n",
        "X_train_targetSentiment = train[\"Sentiment\"]\n",
        "X_test = test[\"text_stemmed\"]\n",
        "X_test_targetSentiment = test[\"Sentiment\"]\n",
        "print(len(X_train), len(X_test))"
      ],
      "id": "c588d0a6"
    },
    {
      "cell_type": "code",
      "execution_count": null,
      "metadata": {
        "id": "1292edac"
      },
      "outputs": [],
      "source": [
        "# replacing missing values with single space\n",
        "X_train = X_train.fillna(' ')\n",
        "X_test = X_test.fillna(' ')\n",
        "X_train_targetSentiment = X_train_targetSentiment.fillna(' ')\n",
        "X_test_targetSentiment = X_test_targetSentiment.fillna(' ')"
      ],
      "id": "1292edac"
    },
    {
      "cell_type": "code",
      "execution_count": null,
      "metadata": {
        "id": "0ca36f0d",
        "colab": {
          "base_uri": "https://localhost:8080/"
        },
        "outputId": "855480c8-a8c2-4e94-9185-fd0152268e72"
      },
      "outputs": [
        {
          "output_type": "execute_result",
          "data": {
            "text/plain": [
              "(8168, 13323)"
            ]
          },
          "metadata": {},
          "execution_count": 43
        }
      ],
      "source": [
        "# encoding as vector of token counts based on vocabulary\n",
        "from sklearn.feature_extraction.text import CountVectorizer\n",
        "count_vect = CountVectorizer()\n",
        "X_train_counts = count_vect.fit_transform(X_train)\n",
        "X_train_counts.shape"
      ],
      "id": "0ca36f0d"
    },
    {
      "cell_type": "code",
      "execution_count": null,
      "metadata": {
        "id": "eb5e9f9d",
        "colab": {
          "base_uri": "https://localhost:8080/"
        },
        "outputId": "9139e36e-bea0-4cd4-fd99-c840c0939bbb"
      },
      "outputs": [
        {
          "output_type": "execute_result",
          "data": {
            "text/plain": [
              "(8168, 13323)"
            ]
          },
          "metadata": {},
          "execution_count": 44
        }
      ],
      "source": [
        "# transforming matrix of token counts into normalised matrix of TF-IDF features.\n",
        "# TF-IDF : Term frequency-inverse document frequency\n",
        "from sklearn.feature_extraction.text import TfidfTransformer\n",
        "tfidf_transformer = TfidfTransformer(use_idf=False)\n",
        "X_train_tfidf = tfidf_transformer.fit_transform(X_train_counts)\n",
        "X_train_tfidf.shape"
      ],
      "id": "eb5e9f9d"
    },
    {
      "cell_type": "code",
      "execution_count": null,
      "metadata": {
        "id": "8736bf72",
        "colab": {
          "base_uri": "https://localhost:8080/",
          "height": 159
        },
        "outputId": "9b55f8f2-d3cb-4414-d0d5-5b7a2c337832"
      },
      "outputs": [
        {
          "output_type": "execute_result",
          "data": {
            "text/plain": [
              "Pipeline(steps=[('vect', CountVectorizer()), ('tfidf', TfidfTransformer()),\n",
              "                ('clf_nominalNB', MultinomialNB())])"
            ],
            "text/html": [
              "<style>#sk-container-id-1 {color: black;background-color: white;}#sk-container-id-1 pre{padding: 0;}#sk-container-id-1 div.sk-toggleable {background-color: white;}#sk-container-id-1 label.sk-toggleable__label {cursor: pointer;display: block;width: 100%;margin-bottom: 0;padding: 0.3em;box-sizing: border-box;text-align: center;}#sk-container-id-1 label.sk-toggleable__label-arrow:before {content: \"▸\";float: left;margin-right: 0.25em;color: #696969;}#sk-container-id-1 label.sk-toggleable__label-arrow:hover:before {color: black;}#sk-container-id-1 div.sk-estimator:hover label.sk-toggleable__label-arrow:before {color: black;}#sk-container-id-1 div.sk-toggleable__content {max-height: 0;max-width: 0;overflow: hidden;text-align: left;background-color: #f0f8ff;}#sk-container-id-1 div.sk-toggleable__content pre {margin: 0.2em;color: black;border-radius: 0.25em;background-color: #f0f8ff;}#sk-container-id-1 input.sk-toggleable__control:checked~div.sk-toggleable__content {max-height: 200px;max-width: 100%;overflow: auto;}#sk-container-id-1 input.sk-toggleable__control:checked~label.sk-toggleable__label-arrow:before {content: \"▾\";}#sk-container-id-1 div.sk-estimator input.sk-toggleable__control:checked~label.sk-toggleable__label {background-color: #d4ebff;}#sk-container-id-1 div.sk-label input.sk-toggleable__control:checked~label.sk-toggleable__label {background-color: #d4ebff;}#sk-container-id-1 input.sk-hidden--visually {border: 0;clip: rect(1px 1px 1px 1px);clip: rect(1px, 1px, 1px, 1px);height: 1px;margin: -1px;overflow: hidden;padding: 0;position: absolute;width: 1px;}#sk-container-id-1 div.sk-estimator {font-family: monospace;background-color: #f0f8ff;border: 1px dotted black;border-radius: 0.25em;box-sizing: border-box;margin-bottom: 0.5em;}#sk-container-id-1 div.sk-estimator:hover {background-color: #d4ebff;}#sk-container-id-1 div.sk-parallel-item::after {content: \"\";width: 100%;border-bottom: 1px solid gray;flex-grow: 1;}#sk-container-id-1 div.sk-label:hover label.sk-toggleable__label {background-color: #d4ebff;}#sk-container-id-1 div.sk-serial::before {content: \"\";position: absolute;border-left: 1px solid gray;box-sizing: border-box;top: 0;bottom: 0;left: 50%;z-index: 0;}#sk-container-id-1 div.sk-serial {display: flex;flex-direction: column;align-items: center;background-color: white;padding-right: 0.2em;padding-left: 0.2em;position: relative;}#sk-container-id-1 div.sk-item {position: relative;z-index: 1;}#sk-container-id-1 div.sk-parallel {display: flex;align-items: stretch;justify-content: center;background-color: white;position: relative;}#sk-container-id-1 div.sk-item::before, #sk-container-id-1 div.sk-parallel-item::before {content: \"\";position: absolute;border-left: 1px solid gray;box-sizing: border-box;top: 0;bottom: 0;left: 50%;z-index: -1;}#sk-container-id-1 div.sk-parallel-item {display: flex;flex-direction: column;z-index: 1;position: relative;background-color: white;}#sk-container-id-1 div.sk-parallel-item:first-child::after {align-self: flex-end;width: 50%;}#sk-container-id-1 div.sk-parallel-item:last-child::after {align-self: flex-start;width: 50%;}#sk-container-id-1 div.sk-parallel-item:only-child::after {width: 0;}#sk-container-id-1 div.sk-dashed-wrapped {border: 1px dashed gray;margin: 0 0.4em 0.5em 0.4em;box-sizing: border-box;padding-bottom: 0.4em;background-color: white;}#sk-container-id-1 div.sk-label label {font-family: monospace;font-weight: bold;display: inline-block;line-height: 1.2em;}#sk-container-id-1 div.sk-label-container {text-align: center;}#sk-container-id-1 div.sk-container {/* jupyter's `normalize.less` sets `[hidden] { display: none; }` but bootstrap.min.css set `[hidden] { display: none !important; }` so we also need the `!important` here to be able to override the default hidden behavior on the sphinx rendered scikit-learn.org. See: https://github.com/scikit-learn/scikit-learn/issues/21755 */display: inline-block !important;position: relative;}#sk-container-id-1 div.sk-text-repr-fallback {display: none;}</style><div id=\"sk-container-id-1\" class=\"sk-top-container\"><div class=\"sk-text-repr-fallback\"><pre>Pipeline(steps=[(&#x27;vect&#x27;, CountVectorizer()), (&#x27;tfidf&#x27;, TfidfTransformer()),\n",
              "                (&#x27;clf_nominalNB&#x27;, MultinomialNB())])</pre><b>In a Jupyter environment, please rerun this cell to show the HTML representation or trust the notebook. <br />On GitHub, the HTML representation is unable to render, please try loading this page with nbviewer.org.</b></div><div class=\"sk-container\" hidden><div class=\"sk-item sk-dashed-wrapped\"><div class=\"sk-label-container\"><div class=\"sk-label sk-toggleable\"><input class=\"sk-toggleable__control sk-hidden--visually\" id=\"sk-estimator-id-1\" type=\"checkbox\" ><label for=\"sk-estimator-id-1\" class=\"sk-toggleable__label sk-toggleable__label-arrow\">Pipeline</label><div class=\"sk-toggleable__content\"><pre>Pipeline(steps=[(&#x27;vect&#x27;, CountVectorizer()), (&#x27;tfidf&#x27;, TfidfTransformer()),\n",
              "                (&#x27;clf_nominalNB&#x27;, MultinomialNB())])</pre></div></div></div><div class=\"sk-serial\"><div class=\"sk-item\"><div class=\"sk-estimator sk-toggleable\"><input class=\"sk-toggleable__control sk-hidden--visually\" id=\"sk-estimator-id-2\" type=\"checkbox\" ><label for=\"sk-estimator-id-2\" class=\"sk-toggleable__label sk-toggleable__label-arrow\">CountVectorizer</label><div class=\"sk-toggleable__content\"><pre>CountVectorizer()</pre></div></div></div><div class=\"sk-item\"><div class=\"sk-estimator sk-toggleable\"><input class=\"sk-toggleable__control sk-hidden--visually\" id=\"sk-estimator-id-3\" type=\"checkbox\" ><label for=\"sk-estimator-id-3\" class=\"sk-toggleable__label sk-toggleable__label-arrow\">TfidfTransformer</label><div class=\"sk-toggleable__content\"><pre>TfidfTransformer()</pre></div></div></div><div class=\"sk-item\"><div class=\"sk-estimator sk-toggleable\"><input class=\"sk-toggleable__control sk-hidden--visually\" id=\"sk-estimator-id-4\" type=\"checkbox\" ><label for=\"sk-estimator-id-4\" class=\"sk-toggleable__label sk-toggleable__label-arrow\">MultinomialNB</label><div class=\"sk-toggleable__content\"><pre>MultinomialNB()</pre></div></div></div></div></div></div></div>"
            ]
          },
          "metadata": {},
          "execution_count": 45
        }
      ],
      "source": [
        "# using naive bayes for classification\n",
        "from sklearn.naive_bayes import MultinomialNB\n",
        "from sklearn.pipeline import Pipeline\n",
        "clf_multiNB_pipe = Pipeline([(\"vect\", CountVectorizer()),\n",
        " (\"tfidf\", TfidfTransformer()),\n",
        " (\"clf_nominalNB\", MultinomialNB())])\n",
        "clf_multiNB_pipe.fit(X_train, X_train_targetSentiment)"
      ],
      "id": "8736bf72"
    },
    {
      "cell_type": "code",
      "execution_count": null,
      "metadata": {
        "id": "7b075022",
        "colab": {
          "base_uri": "https://localhost:8080/"
        },
        "outputId": "621b6ccb-ef30-4a9e-dc90-d103e898a7f0"
      },
      "outputs": [
        {
          "output_type": "execute_result",
          "data": {
            "text/plain": [
              "0.7355533790401567"
            ]
          },
          "metadata": {},
          "execution_count": 46
        }
      ],
      "source": [
        "# calculating mean accuracy\n",
        "import numpy as np\n",
        "predictedMultiNB = clf_multiNB_pipe.predict(X_test)\n",
        "NB=np.mean(predictedMultiNB == X_test_targetSentiment)\n",
        "NB"
      ],
      "id": "7b075022"
    },
    {
      "cell_type": "code",
      "execution_count": null,
      "metadata": {
        "id": "21c42e08",
        "colab": {
          "base_uri": "https://localhost:8080/"
        },
        "outputId": "185fd635-8d97-452f-9dc0-276a47b898d4"
      },
      "outputs": [
        {
          "output_type": "stream",
          "name": "stdout",
          "text": [
            "               precision    recall  f1-score   support\n",
            "\n",
            "     Negative       0.00      0.00      0.00        76\n",
            "      Neutral       0.00      0.00      0.00       108\n",
            "     Positive       0.00      0.00      0.00       211\n",
            "Very_Negative       0.00      0.00      0.00       145\n",
            "Very_Positive       0.74      1.00      0.85      1502\n",
            "\n",
            "     accuracy                           0.74      2042\n",
            "    macro avg       0.15      0.20      0.17      2042\n",
            " weighted avg       0.54      0.74      0.62      2042\n",
            "\n",
            "Naive Bayes Accuracy: 0.7355533790401567\n"
          ]
        },
        {
          "output_type": "stream",
          "name": "stderr",
          "text": [
            "/usr/local/lib/python3.10/dist-packages/sklearn/metrics/_classification.py:1344: UndefinedMetricWarning: Precision and F-score are ill-defined and being set to 0.0 in labels with no predicted samples. Use `zero_division` parameter to control this behavior.\n",
            "  _warn_prf(average, modifier, msg_start, len(result))\n",
            "/usr/local/lib/python3.10/dist-packages/sklearn/metrics/_classification.py:1344: UndefinedMetricWarning: Precision and F-score are ill-defined and being set to 0.0 in labels with no predicted samples. Use `zero_division` parameter to control this behavior.\n",
            "  _warn_prf(average, modifier, msg_start, len(result))\n",
            "/usr/local/lib/python3.10/dist-packages/sklearn/metrics/_classification.py:1344: UndefinedMetricWarning: Precision and F-score are ill-defined and being set to 0.0 in labels with no predicted samples. Use `zero_division` parameter to control this behavior.\n",
            "  _warn_prf(average, modifier, msg_start, len(result))\n"
          ]
        }
      ],
      "source": [
        "# testing accuracy\n",
        "from sklearn.metrics import classification_report\n",
        "from sklearn.metrics import accuracy_score\n",
        "print(classification_report(X_test_targetSentiment,\n",
        " predictedMultiNB))\n",
        "print('Naive Bayes Accuracy: {}'. format(accuracy_score(X_test_targetSentiment,\n",
        " predictedMultiNB)))"
      ],
      "id": "21c42e08"
    },
    {
      "cell_type": "code",
      "execution_count": null,
      "metadata": {
        "id": "eca4c1f3",
        "colab": {
          "base_uri": "https://localhost:8080/"
        },
        "outputId": "87c37137-bd7f-422b-cf07-122b0113fe95"
      },
      "outputs": [
        {
          "output_type": "execute_result",
          "data": {
            "text/plain": [
              "0.7590597453476984"
            ]
          },
          "metadata": {},
          "execution_count": 48
        }
      ],
      "source": [
        "import warnings\n",
        "from sklearn.exceptions import ConvergenceWarning\n",
        "\n",
        "warnings.filterwarnings(\"ignore\", category=ConvergenceWarning)\n",
        "\n",
        "from sklearn.linear_model import LogisticRegression\n",
        "from sklearn.pipeline import Pipeline\n",
        "\n",
        "clf_logReg_pipe = Pipeline([\n",
        "    (\"vect\", CountVectorizer()),\n",
        "    (\"tfidf\", TfidfTransformer()),\n",
        "    (\"clf_logReg\", LogisticRegression(max_iter=1000))\n",
        "])\n",
        "\n",
        "clf_logReg_pipe.fit(X_train, X_train_targetSentiment)\n",
        "\n",
        "import numpy as np\n",
        "\n",
        "predictedLogReg = clf_logReg_pipe.predict(X_test)\n",
        "LR = np.mean(predictedLogReg == X_test_targetSentiment)\n",
        "LR\n"
      ],
      "id": "eca4c1f3"
    },
    {
      "cell_type": "code",
      "execution_count": null,
      "metadata": {
        "id": "5ae0ea84",
        "colab": {
          "base_uri": "https://localhost:8080/"
        },
        "outputId": "42f49154-716d-4a70-aeb9-c998fea5ea14"
      },
      "outputs": [
        {
          "output_type": "stream",
          "name": "stdout",
          "text": [
            "               precision    recall  f1-score   support\n",
            "\n",
            "     Negative       1.00      0.04      0.08        76\n",
            "      Neutral       0.29      0.02      0.03       108\n",
            "     Positive       0.35      0.08      0.13       211\n",
            "Very_Negative       0.70      0.30      0.42       145\n",
            "Very_Positive       0.77      0.99      0.87      1502\n",
            "\n",
            "     accuracy                           0.76      2042\n",
            "    macro avg       0.62      0.29      0.31      2042\n",
            " weighted avg       0.71      0.76      0.69      2042\n",
            "\n",
            "Logistic Regression Accuracy: 0.7590597453476984\n"
          ]
        }
      ],
      "source": [
        "# testing accuracy\n",
        "print(classification_report(X_test_targetSentiment,\n",
        " predictedLogReg))\n",
        "print('Logistic Regression Accuracy: {}'. format(accuracy_score(X_test_targetSentiment,\n",
        " predictedLogReg)))"
      ],
      "id": "5ae0ea84"
    },
    {
      "cell_type": "code",
      "execution_count": null,
      "metadata": {
        "id": "4bf6a613",
        "colab": {
          "base_uri": "https://localhost:8080/"
        },
        "outputId": "eb122101-a07f-429b-ca27-b9653ccb666e"
      },
      "outputs": [
        {
          "output_type": "execute_result",
          "data": {
            "text/plain": [
              "0.7659157688540646"
            ]
          },
          "metadata": {},
          "execution_count": 50
        }
      ],
      "source": [
        "from sklearn.svm import LinearSVC\n",
        "clf_linearSVC_pipe = Pipeline([(\"vect\", CountVectorizer()),\n",
        " (\"tfidf\", TfidfTransformer()),\n",
        " (\"clf_linearSVC\", LinearSVC())])\n",
        "clf_linearSVC_pipe.fit(X_train, X_train_targetSentiment)\n",
        "# computes arithmetic mean\n",
        "predictedLinearSVC = clf_linearSVC_pipe.predict(X_test)\n",
        "LSVC=np.mean(predictedLinearSVC == X_test_targetSentiment)\n",
        "LSVC"
      ],
      "id": "4bf6a613"
    },
    {
      "cell_type": "code",
      "execution_count": null,
      "metadata": {
        "id": "b96db7a5",
        "colab": {
          "base_uri": "https://localhost:8080/"
        },
        "outputId": "c5f7ee46-3282-4db9-ff17-09f145626cf3"
      },
      "outputs": [
        {
          "output_type": "stream",
          "name": "stdout",
          "text": [
            "               precision    recall  f1-score   support\n",
            "\n",
            "     Negative       0.34      0.16      0.22        76\n",
            "      Neutral       0.25      0.06      0.10       108\n",
            "     Positive       0.34      0.14      0.20       211\n",
            "Very_Negative       0.59      0.48      0.53       145\n",
            "Very_Positive       0.82      0.96      0.88      1502\n",
            "\n",
            "     accuracy                           0.77      2042\n",
            "    macro avg       0.47      0.36      0.39      2042\n",
            " weighted avg       0.70      0.77      0.72      2042\n",
            "\n",
            "SVM Accuracy: 0.7659157688540646\n"
          ]
        }
      ],
      "source": [
        "# testing accuracy\n",
        "print(classification_report(X_test_targetSentiment,\n",
        " predictedLinearSVC))\n",
        "print('SVM Accuracy: {}'. format(accuracy_score(X_test_targetSentiment,\n",
        " predictedLinearSVC)))"
      ],
      "id": "b96db7a5"
    },
    {
      "cell_type": "code",
      "execution_count": null,
      "metadata": {
        "id": "9e83a99c",
        "colab": {
          "base_uri": "https://localhost:8080/"
        },
        "outputId": "d56e136c-e2d0-4338-981d-db298e486826"
      },
      "outputs": [
        {
          "output_type": "execute_result",
          "data": {
            "text/plain": [
              "0.6625857002938296"
            ]
          },
          "metadata": {},
          "execution_count": 52
        }
      ],
      "source": [
        "from sklearn.tree import DecisionTreeClassifier\n",
        "clf_decisionTree_pipe = Pipeline([(\"vect\", CountVectorizer()),\n",
        " (\"tfidf\", TfidfTransformer()),\n",
        " (\"clf_decisionTree\", DecisionTreeClassifier())\n",
        " ])\n",
        "clf_decisionTree_pipe.fit(X_train, X_train_targetSentiment)\n",
        "# computes arithmetic mean\n",
        "predictedDecisionTree = clf_decisionTree_pipe.predict(X_test)\n",
        "DT=np.mean(predictedDecisionTree == X_test_targetSentiment)\n",
        "DT"
      ],
      "id": "9e83a99c"
    },
    {
      "cell_type": "code",
      "execution_count": null,
      "metadata": {
        "id": "1ccc2485",
        "colab": {
          "base_uri": "https://localhost:8080/"
        },
        "outputId": "8e81a51a-de75-4e92-a401-da478792304e"
      },
      "outputs": [
        {
          "output_type": "stream",
          "name": "stdout",
          "text": [
            "               precision    recall  f1-score   support\n",
            "\n",
            "     Negative       0.17      0.13      0.15        76\n",
            "      Neutral       0.11      0.10      0.10       108\n",
            "     Positive       0.18      0.16      0.17       211\n",
            "Very_Negative       0.35      0.31      0.33       145\n",
            "Very_Positive       0.80      0.83      0.82      1502\n",
            "\n",
            "     accuracy                           0.66      2042\n",
            "    macro avg       0.32      0.31      0.31      2042\n",
            " weighted avg       0.64      0.66      0.65      2042\n",
            "\n",
            "Decision Tree Accuracy: 0.6625857002938296\n"
          ]
        }
      ],
      "source": [
        "# testing accuracy\n",
        "print(classification_report(X_test_targetSentiment,\n",
        " predictedDecisionTree))\n",
        "print('Decision Tree Accuracy: {}'. format(accuracy_score(X_test_targetSentiment,\n",
        " predictedDecisionTree)))"
      ],
      "id": "1ccc2485"
    },
    {
      "cell_type": "code",
      "execution_count": null,
      "metadata": {
        "id": "192572a7",
        "colab": {
          "base_uri": "https://localhost:8080/"
        },
        "outputId": "6527e430-f777-4df2-a392-a8e847b42031"
      },
      "outputs": [
        {
          "output_type": "execute_result",
          "data": {
            "text/plain": [
              "0.7438785504407444"
            ]
          },
          "metadata": {},
          "execution_count": 54
        }
      ],
      "source": [
        "from sklearn.ensemble import RandomForestClassifier\n",
        "clf_randomForest_pipe = Pipeline([(\"vect\", CountVectorizer()),\n",
        " (\"tfidf\", TfidfTransformer()),\n",
        " (\"clf_randomForest\", RandomForestClassifier())\n",
        " ])\n",
        "clf_randomForest_pipe.fit(X_train, X_train_targetSentiment)\n",
        "# computes arithmetic mean\n",
        "predictedRandomForest = clf_randomForest_pipe.predict(X_test)\n",
        "RF=np.mean(predictedRandomForest == X_test_targetSentiment)\n",
        "RF"
      ],
      "id": "192572a7"
    },
    {
      "cell_type": "code",
      "execution_count": null,
      "metadata": {
        "id": "e2564590",
        "colab": {
          "base_uri": "https://localhost:8080/"
        },
        "outputId": "2ff8c65a-e38f-4138-c5ae-7578b7e6d3c9"
      },
      "outputs": [
        {
          "output_type": "stream",
          "name": "stdout",
          "text": [
            "               precision    recall  f1-score   support\n",
            "\n",
            "     Negative       1.00      0.05      0.10        76\n",
            "      Neutral       1.00      0.01      0.02       108\n",
            "     Positive       0.60      0.01      0.03       211\n",
            "Very_Negative       0.92      0.08      0.14       145\n",
            "Very_Positive       0.74      1.00      0.85      1502\n",
            "\n",
            "     accuracy                           0.74      2042\n",
            "    macro avg       0.85      0.23      0.23      2042\n",
            " weighted avg       0.76      0.74      0.64      2042\n",
            "\n",
            "Random Forest Classifier Accuracy: 0.7438785504407444\n"
          ]
        }
      ],
      "source": [
        "# testing accuracy\n",
        "print(classification_report (X_test_targetSentiment,\n",
        " predictedRandomForest))\n",
        "print('Random Forest Classifier Accuracy: {}'. format(accuracy_score(X_test_targetSentiment,\n",
        " predictedRandomForest)))"
      ],
      "id": "e2564590"
    },
    {
      "cell_type": "code",
      "source": [
        "import matplotlib.pyplot as plt\n",
        "\n",
        "# Define the classifiers and their corresponding accuracy scores\n",
        "classifiers = ['Random Forest', 'Decision Tree', 'SVM', 'Logistic Regression', 'Naive Bayes']\n",
        "accuracy_scores = [accuracy_score(X_test_targetSentiment, predictedRandomForest),\n",
        "                   accuracy_score(X_test_targetSentiment, predictedDecisionTree),\n",
        "                   accuracy_score(X_test_targetSentiment, predictedLinearSVC),\n",
        "                   accuracy_score(X_test_targetSentiment, predictedLogReg),\n",
        "                   accuracy_score(X_test_targetSentiment, predictedMultiNB)]\n",
        "\n",
        "# Create a bar plot\n",
        "plt.figure(figsize=(8, 6))\n",
        "plt.bar(classifiers, accuracy_scores)\n",
        "plt.xlabel('Classifier')\n",
        "plt.ylabel('Accuracy')\n",
        "plt.title('Accuracy Comparison of Classifiers')\n",
        "\n",
        "# Add text labels with accuracy scores on the bars\n",
        "for i, score in enumerate(accuracy_scores):\n",
        "    plt.text(i, score, f'{score:.3f}', ha='center', va='bottom')\n",
        "\n",
        "plt.ylim(0, 1)  # Set the y-axis limit from 0 to 1\n",
        "plt.show()\n"
      ],
      "metadata": {
        "colab": {
          "base_uri": "https://localhost:8080/",
          "height": 564
        },
        "id": "ZZ972x88o69L",
        "outputId": "4f3cd991-8379-4d31-8d1b-4ee28349b558"
      },
      "id": "ZZ972x88o69L",
      "execution_count": null,
      "outputs": [
        {
          "output_type": "display_data",
          "data": {
            "text/plain": [
              "<Figure size 800x600 with 1 Axes>"
            ],
            "image/png": "[encoded data removed]"
          },
          "metadata": {}
        }
      ]
    },
    {
      "cell_type": "code",
      "source": [
        "import pickle\n",
        "\n",
        "# Fit the GridSearchCV object to the training data\n",
        "grid.fit(X_train, X_train_targetSentiment)\n",
        "\n",
        "# Save the model\n",
        "with open('svm_model_pickle', 'wb') as f:\n",
        "    pickle.dump(grid, f)\n",
        "\n",
        "# Load the model\n",
        "with open('svm_model_pickle', 'rb') as f:\n",
        "    model = pickle.load(f)\n",
        "\n",
        "# Make predictions using the loaded model\n",
        "new_text = [\"This is a new text to classify\"]\n",
        "predicted = model.predict(new_text)\n",
        "print(predicted)\n"
      ],
      "metadata": {
        "colab": {
          "base_uri": "https://localhost:8080/"
        },
        "id": "6jpS4yfJqZhg",
        "outputId": "bb5e7cd7-7580-4b7f-92ae-c7f06ef5cb4b"
      },
      "id": "6jpS4yfJqZhg",
      "execution_count": null,
      "outputs": [
        {
          "output_type": "stream",
          "name": "stdout",
          "text": [
            "Fitting 5 folds for each of 36 candidates, totalling 180 fits\n",
            "['Very_Positive']\n"
          ]
        }
      ]
    },
    {
      "cell_type": "code",
      "execution_count": null,
      "metadata": {
        "id": "M_66D1Bxk8Ap",
        "colab": {
          "base_uri": "https://localhost:8080/",
          "height": 409
        },
        "outputId": "862d7e83-79a4-4ca6-fcc9-279cdb7c5324"
      },
      "outputs": [
        {
          "output_type": "stream",
          "name": "stderr",
          "text": [
            "\r  0%|          | 0/4 [00:00<?, ?it/s]"
          ]
        },
        {
          "output_type": "stream",
          "name": "stdout",
          "text": [
            "Fitting 5 folds for each of 36 candidates, totalling 180 fits\n"
          ]
        },
        {
          "output_type": "stream",
          "name": "stderr",
          "text": [
            "\r  0%|          | 0/4 [00:33<?, ?it/s]\n"
          ]
        },
        {
          "output_type": "error",
          "ename": "KeyboardInterrupt",
          "evalue": "ignored",
          "traceback": [
            "\u001b[0;31m---------------------------------------------------------------------------\u001b[0m",
            "\u001b[0;31mKeyboardInterrupt\u001b[0m                         Traceback (most recent call last)",
            "\u001b[0;32m<ipython-input-57-71520561e855>\u001b[0m in \u001b[0;36m<cell line: 25>\u001b[0;34m()\u001b[0m\n\u001b[1;32m     29\u001b[0m \u001b[0;34m\u001b[0m\u001b[0m\n\u001b[1;32m     30\u001b[0m     \u001b[0;31m# Fit the GridSearchCV object to the training data with progress bar\u001b[0m\u001b[0;34m\u001b[0m\u001b[0;34m\u001b[0m\u001b[0m\n\u001b[0;32m---> 31\u001b[0;31m     \u001b[0mfit_with_progress\u001b[0m\u001b[0;34m(\u001b[0m\u001b[0mX_train\u001b[0m\u001b[0;34m,\u001b[0m \u001b[0mX_train_targetSentiment\u001b[0m\u001b[0;34m)\u001b[0m\u001b[0;34m\u001b[0m\u001b[0;34m\u001b[0m\u001b[0m\n\u001b[0m\u001b[1;32m     32\u001b[0m \u001b[0;34m\u001b[0m\u001b[0m\n\u001b[1;32m     33\u001b[0m \u001b[0;31m# Print the best parameters and the best score\u001b[0m\u001b[0;34m\u001b[0m\u001b[0;34m\u001b[0m\u001b[0m\n",
            "\u001b[0;32m<ipython-input-57-71520561e855>\u001b[0m in \u001b[0;36mfit_with_progress\u001b[0;34m(*args, **kwargs)\u001b[0m\n\u001b[1;32m     25\u001b[0m \u001b[0;32mwith\u001b[0m \u001b[0mtqdm\u001b[0m\u001b[0;34m(\u001b[0m\u001b[0mtotal\u001b[0m\u001b[0;34m=\u001b[0m\u001b[0mlen\u001b[0m\u001b[0;34m(\u001b[0m\u001b[0mparam_grid\u001b[0m\u001b[0;34m)\u001b[0m\u001b[0;34m)\u001b[0m \u001b[0;32mas\u001b[0m \u001b[0mpbar\u001b[0m\u001b[0;34m:\u001b[0m\u001b[0;34m\u001b[0m\u001b[0;34m\u001b[0m\u001b[0m\n\u001b[1;32m     26\u001b[0m     \u001b[0;32mdef\u001b[0m \u001b[0mfit_with_progress\u001b[0m\u001b[0;34m(\u001b[0m\u001b[0;34m*\u001b[0m\u001b[0margs\u001b[0m\u001b[0;34m,\u001b[0m \u001b[0;34m**\u001b[0m\u001b[0mkwargs\u001b[0m\u001b[0;34m)\u001b[0m\u001b[0;34m:\u001b[0m\u001b[0;34m\u001b[0m\u001b[0;34m\u001b[0m\u001b[0m\n\u001b[0;32m---> 27\u001b[0;31m         \u001b[0mgrid\u001b[0m\u001b[0;34m.\u001b[0m\u001b[0mfit\u001b[0m\u001b[0;34m(\u001b[0m\u001b[0;34m*\u001b[0m\u001b[0margs\u001b[0m\u001b[0;34m,\u001b[0m \u001b[0;34m**\u001b[0m\u001b[0mkwargs\u001b[0m\u001b[0;34m)\u001b[0m\u001b[0;34m\u001b[0m\u001b[0;34m\u001b[0m\u001b[0m\n\u001b[0m\u001b[1;32m     28\u001b[0m         \u001b[0mpbar\u001b[0m\u001b[0;34m.\u001b[0m\u001b[0mupdate\u001b[0m\u001b[0;34m(\u001b[0m\u001b[0;36m1\u001b[0m\u001b[0;34m)\u001b[0m\u001b[0;34m\u001b[0m\u001b[0;34m\u001b[0m\u001b[0m\n\u001b[1;32m     29\u001b[0m \u001b[0;34m\u001b[0m\u001b[0m\n",
            "\u001b[0;32m/usr/local/lib/python3.10/dist-packages/sklearn/model_selection/_search.py\u001b[0m in \u001b[0;36mfit\u001b[0;34m(self, X, y, groups, **fit_params)\u001b[0m\n\u001b[1;32m    872\u001b[0m                 \u001b[0;32mreturn\u001b[0m \u001b[0mresults\u001b[0m\u001b[0;34m\u001b[0m\u001b[0;34m\u001b[0m\u001b[0m\n\u001b[1;32m    873\u001b[0m \u001b[0;34m\u001b[0m\u001b[0m\n\u001b[0;32m--> 874\u001b[0;31m             \u001b[0mself\u001b[0m\u001b[0;34m.\u001b[0m\u001b[0m_run_search\u001b[0m\u001b[0;34m(\u001b[0m\u001b[0mevaluate_candidates\u001b[0m\u001b[0;34m)\u001b[0m\u001b[0;34m\u001b[0m\u001b[0;34m\u001b[0m\u001b[0m\n\u001b[0m\u001b[1;32m    875\u001b[0m \u001b[0;34m\u001b[0m\u001b[0m\n\u001b[1;32m    876\u001b[0m             \u001b[0;31m# multimetric is determined here because in the case of a callable\u001b[0m\u001b[0;34m\u001b[0m\u001b[0;34m\u001b[0m\u001b[0m\n",
            "\u001b[0;32m/usr/local/lib/python3.10/dist-packages/sklearn/model_selection/_search.py\u001b[0m in \u001b[0;36m_run_search\u001b[0;34m(self, evaluate_candidates)\u001b[0m\n\u001b[1;32m   1386\u001b[0m     \u001b[0;32mdef\u001b[0m \u001b[0m_run_search\u001b[0m\u001b[0;34m(\u001b[0m\u001b[0mself\u001b[0m\u001b[0;34m,\u001b[0m \u001b[0mevaluate_candidates\u001b[0m\u001b[0;34m)\u001b[0m\u001b[0;34m:\u001b[0m\u001b[0;34m\u001b[0m\u001b[0;34m\u001b[0m\u001b[0m\n\u001b[1;32m   1387\u001b[0m         \u001b[0;34m\"\"\"Search all candidates in param_grid\"\"\"\u001b[0m\u001b[0;34m\u001b[0m\u001b[0;34m\u001b[0m\u001b[0m\n\u001b[0;32m-> 1388\u001b[0;31m         \u001b[0mevaluate_candidates\u001b[0m\u001b[0;34m(\u001b[0m\u001b[0mParameterGrid\u001b[0m\u001b[0;34m(\u001b[0m\u001b[0mself\u001b[0m\u001b[0;34m.\u001b[0m\u001b[0mparam_grid\u001b[0m\u001b[0;34m)\u001b[0m\u001b[0;34m)\u001b[0m\u001b[0;34m\u001b[0m\u001b[0;34m\u001b[0m\u001b[0m\n\u001b[0m\u001b[1;32m   1389\u001b[0m \u001b[0;34m\u001b[0m\u001b[0m\n\u001b[1;32m   1390\u001b[0m \u001b[0;34m\u001b[0m\u001b[0m\n",
            "\u001b[0;32m/usr/local/lib/python3.10/dist-packages/sklearn/model_selection/_search.py\u001b[0m in \u001b[0;36mevaluate_candidates\u001b[0;34m(candidate_params, cv, more_results)\u001b[0m\n\u001b[1;32m    819\u001b[0m                     )\n\u001b[1;32m    820\u001b[0m \u001b[0;34m\u001b[0m\u001b[0m\n\u001b[0;32m--> 821\u001b[0;31m                 out = parallel(\n\u001b[0m\u001b[1;32m    822\u001b[0m                     delayed(_fit_and_score)(\n\u001b[1;32m    823\u001b[0m                         \u001b[0mclone\u001b[0m\u001b[0;34m(\u001b[0m\u001b[0mbase_estimator\u001b[0m\u001b[0;34m)\u001b[0m\u001b[0;34m,\u001b[0m\u001b[0;34m\u001b[0m\u001b[0;34m\u001b[0m\u001b[0m\n",
            "\u001b[0;32m/usr/local/lib/python3.10/dist-packages/sklearn/utils/parallel.py\u001b[0m in \u001b[0;36m__call__\u001b[0;34m(self, iterable)\u001b[0m\n\u001b[1;32m     61\u001b[0m             \u001b[0;32mfor\u001b[0m \u001b[0mdelayed_func\u001b[0m\u001b[0;34m,\u001b[0m \u001b[0margs\u001b[0m\u001b[0;34m,\u001b[0m \u001b[0mkwargs\u001b[0m \u001b[0;32min\u001b[0m \u001b[0miterable\u001b[0m\u001b[0;34m\u001b[0m\u001b[0;34m\u001b[0m\u001b[0m\n\u001b[1;32m     62\u001b[0m         )\n\u001b[0;32m---> 63\u001b[0;31m         \u001b[0;32mreturn\u001b[0m \u001b[0msuper\u001b[0m\u001b[0;34m(\u001b[0m\u001b[0;34m)\u001b[0m\u001b[0;34m.\u001b[0m\u001b[0m__call__\u001b[0m\u001b[0;34m(\u001b[0m\u001b[0miterable_with_config\u001b[0m\u001b[0;34m)\u001b[0m\u001b[0;34m\u001b[0m\u001b[0;34m\u001b[0m\u001b[0m\n\u001b[0m\u001b[1;32m     64\u001b[0m \u001b[0;34m\u001b[0m\u001b[0m\n\u001b[1;32m     65\u001b[0m \u001b[0;34m\u001b[0m\u001b[0m\n",
            "\u001b[0;32m/usr/local/lib/python3.10/dist-packages/joblib/parallel.py\u001b[0m in \u001b[0;36m__call__\u001b[0;34m(self, iterable)\u001b[0m\n\u001b[1;32m   1096\u001b[0m \u001b[0;34m\u001b[0m\u001b[0m\n\u001b[1;32m   1097\u001b[0m             \u001b[0;32mwith\u001b[0m \u001b[0mself\u001b[0m\u001b[0;34m.\u001b[0m\u001b[0m_backend\u001b[0m\u001b[0;34m.\u001b[0m\u001b[0mretrieval_context\u001b[0m\u001b[0;34m(\u001b[0m\u001b[0;34m)\u001b[0m\u001b[0;34m:\u001b[0m\u001b[0;34m\u001b[0m\u001b[0;34m\u001b[0m\u001b[0m\n\u001b[0;32m-> 1098\u001b[0;31m                 \u001b[0mself\u001b[0m\u001b[0;34m.\u001b[0m\u001b[0mretrieve\u001b[0m\u001b[0;34m(\u001b[0m\u001b[0;34m)\u001b[0m\u001b[0;34m\u001b[0m\u001b[0;34m\u001b[0m\u001b[0m\n\u001b[0m\u001b[1;32m   1099\u001b[0m             \u001b[0;31m# Make sure that we get a last message telling us we are done\u001b[0m\u001b[0;34m\u001b[0m\u001b[0;34m\u001b[0m\u001b[0m\n\u001b[1;32m   1100\u001b[0m             \u001b[0melapsed_time\u001b[0m \u001b[0;34m=\u001b[0m \u001b[0mtime\u001b[0m\u001b[0;34m.\u001b[0m\u001b[0mtime\u001b[0m\u001b[0;34m(\u001b[0m\u001b[0;34m)\u001b[0m \u001b[0;34m-\u001b[0m \u001b[0mself\u001b[0m\u001b[0;34m.\u001b[0m\u001b[0m_start_time\u001b[0m\u001b[0;34m\u001b[0m\u001b[0;34m\u001b[0m\u001b[0m\n",
            "\u001b[0;32m/usr/local/lib/python3.10/dist-packages/joblib/parallel.py\u001b[0m in \u001b[0;36mretrieve\u001b[0;34m(self)\u001b[0m\n\u001b[1;32m    973\u001b[0m             \u001b[0;32mtry\u001b[0m\u001b[0;34m:\u001b[0m\u001b[0;34m\u001b[0m\u001b[0;34m\u001b[0m\u001b[0m\n\u001b[1;32m    974\u001b[0m                 \u001b[0;32mif\u001b[0m \u001b[0mgetattr\u001b[0m\u001b[0;34m(\u001b[0m\u001b[0mself\u001b[0m\u001b[0;34m.\u001b[0m\u001b[0m_backend\u001b[0m\u001b[0;34m,\u001b[0m \u001b[0;34m'supports_timeout'\u001b[0m\u001b[0;34m,\u001b[0m \u001b[0;32mFalse\u001b[0m\u001b[0;34m)\u001b[0m\u001b[0;34m:\u001b[0m\u001b[0;34m\u001b[0m\u001b[0;34m\u001b[0m\u001b[0m\n\u001b[0;32m--> 975\u001b[0;31m                     \u001b[0mself\u001b[0m\u001b[0;34m.\u001b[0m\u001b[0m_output\u001b[0m\u001b[0;34m.\u001b[0m\u001b[0mextend\u001b[0m\u001b[0;34m(\u001b[0m\u001b[0mjob\u001b[0m\u001b[0;34m.\u001b[0m\u001b[0mget\u001b[0m\u001b[0;34m(\u001b[0m\u001b[0mtimeout\u001b[0m\u001b[0;34m=\u001b[0m\u001b[0mself\u001b[0m\u001b[0;34m.\u001b[0m\u001b[0mtimeout\u001b[0m\u001b[0;34m)\u001b[0m\u001b[0;34m)\u001b[0m\u001b[0;34m\u001b[0m\u001b[0;34m\u001b[0m\u001b[0m\n\u001b[0m\u001b[1;32m    976\u001b[0m                 \u001b[0;32melse\u001b[0m\u001b[0;34m:\u001b[0m\u001b[0;34m\u001b[0m\u001b[0;34m\u001b[0m\u001b[0m\n\u001b[1;32m    977\u001b[0m                     \u001b[0mself\u001b[0m\u001b[0;34m.\u001b[0m\u001b[0m_output\u001b[0m\u001b[0;34m.\u001b[0m\u001b[0mextend\u001b[0m\u001b[0;34m(\u001b[0m\u001b[0mjob\u001b[0m\u001b[0;34m.\u001b[0m\u001b[0mget\u001b[0m\u001b[0;34m(\u001b[0m\u001b[0;34m)\u001b[0m\u001b[0;34m)\u001b[0m\u001b[0;34m\u001b[0m\u001b[0;34m\u001b[0m\u001b[0m\n",
            "\u001b[0;32m/usr/local/lib/python3.10/dist-packages/joblib/_parallel_backends.py\u001b[0m in \u001b[0;36mwrap_future_result\u001b[0;34m(future, timeout)\u001b[0m\n\u001b[1;32m    565\u001b[0m         AsyncResults.get from multiprocessing.\"\"\"\n\u001b[1;32m    566\u001b[0m         \u001b[0;32mtry\u001b[0m\u001b[0;34m:\u001b[0m\u001b[0;34m\u001b[0m\u001b[0;34m\u001b[0m\u001b[0m\n\u001b[0;32m--> 567\u001b[0;31m             \u001b[0;32mreturn\u001b[0m \u001b[0mfuture\u001b[0m\u001b[0;34m.\u001b[0m\u001b[0mresult\u001b[0m\u001b[0;34m(\u001b[0m\u001b[0mtimeout\u001b[0m\u001b[0;34m=\u001b[0m\u001b[0mtimeout\u001b[0m\u001b[0;34m)\u001b[0m\u001b[0;34m\u001b[0m\u001b[0;34m\u001b[0m\u001b[0m\n\u001b[0m\u001b[1;32m    568\u001b[0m         \u001b[0;32mexcept\u001b[0m \u001b[0mCfTimeoutError\u001b[0m \u001b[0;32mas\u001b[0m \u001b[0me\u001b[0m\u001b[0;34m:\u001b[0m\u001b[0;34m\u001b[0m\u001b[0;34m\u001b[0m\u001b[0m\n\u001b[1;32m    569\u001b[0m             \u001b[0;32mraise\u001b[0m \u001b[0mTimeoutError\u001b[0m \u001b[0;32mfrom\u001b[0m \u001b[0me\u001b[0m\u001b[0;34m\u001b[0m\u001b[0;34m\u001b[0m\u001b[0m\n",
            "\u001b[0;32m/usr/lib/python3.10/concurrent/futures/_base.py\u001b[0m in \u001b[0;36mresult\u001b[0;34m(self, timeout)\u001b[0m\n\u001b[1;32m    451\u001b[0m                     \u001b[0;32mreturn\u001b[0m \u001b[0mself\u001b[0m\u001b[0;34m.\u001b[0m\u001b[0m__get_result\u001b[0m\u001b[0;34m(\u001b[0m\u001b[0;34m)\u001b[0m\u001b[0;34m\u001b[0m\u001b[0;34m\u001b[0m\u001b[0m\n\u001b[1;32m    452\u001b[0m \u001b[0;34m\u001b[0m\u001b[0m\n\u001b[0;32m--> 453\u001b[0;31m                 \u001b[0mself\u001b[0m\u001b[0;34m.\u001b[0m\u001b[0m_condition\u001b[0m\u001b[0;34m.\u001b[0m\u001b[0mwait\u001b[0m\u001b[0;34m(\u001b[0m\u001b[0mtimeout\u001b[0m\u001b[0;34m)\u001b[0m\u001b[0;34m\u001b[0m\u001b[0;34m\u001b[0m\u001b[0m\n\u001b[0m\u001b[1;32m    454\u001b[0m \u001b[0;34m\u001b[0m\u001b[0m\n\u001b[1;32m    455\u001b[0m                 \u001b[0;32mif\u001b[0m \u001b[0mself\u001b[0m\u001b[0;34m.\u001b[0m\u001b[0m_state\u001b[0m \u001b[0;32min\u001b[0m \u001b[0;34m[\u001b[0m\u001b[0mCANCELLED\u001b[0m\u001b[0;34m,\u001b[0m \u001b[0mCANCELLED_AND_NOTIFIED\u001b[0m\u001b[0;34m]\u001b[0m\u001b[0;34m:\u001b[0m\u001b[0;34m\u001b[0m\u001b[0;34m\u001b[0m\u001b[0m\n",
            "\u001b[0;32m/usr/lib/python3.10/threading.py\u001b[0m in \u001b[0;36mwait\u001b[0;34m(self, timeout)\u001b[0m\n\u001b[1;32m    318\u001b[0m         \u001b[0;32mtry\u001b[0m\u001b[0;34m:\u001b[0m    \u001b[0;31m# restore state no matter what (e.g., KeyboardInterrupt)\u001b[0m\u001b[0;34m\u001b[0m\u001b[0;34m\u001b[0m\u001b[0m\n\u001b[1;32m    319\u001b[0m             \u001b[0;32mif\u001b[0m \u001b[0mtimeout\u001b[0m \u001b[0;32mis\u001b[0m \u001b[0;32mNone\u001b[0m\u001b[0;34m:\u001b[0m\u001b[0;34m\u001b[0m\u001b[0;34m\u001b[0m\u001b[0m\n\u001b[0;32m--> 320\u001b[0;31m                 \u001b[0mwaiter\u001b[0m\u001b[0;34m.\u001b[0m\u001b[0macquire\u001b[0m\u001b[0;34m(\u001b[0m\u001b[0;34m)\u001b[0m\u001b[0;34m\u001b[0m\u001b[0;34m\u001b[0m\u001b[0m\n\u001b[0m\u001b[1;32m    321\u001b[0m                 \u001b[0mgotit\u001b[0m \u001b[0;34m=\u001b[0m \u001b[0;32mTrue\u001b[0m\u001b[0;34m\u001b[0m\u001b[0;34m\u001b[0m\u001b[0m\n\u001b[1;32m    322\u001b[0m             \u001b[0;32melse\u001b[0m\u001b[0;34m:\u001b[0m\u001b[0;34m\u001b[0m\u001b[0;34m\u001b[0m\u001b[0m\n",
            "\u001b[0;31mKeyboardInterrupt\u001b[0m: "
          ]
        }
      ],
      "source": [
        "from tqdm import tqdm\n",
        "from sklearn.pipeline import Pipeline\n",
        "from sklearn.feature_extraction.text import TfidfVectorizer\n",
        "from sklearn.svm import SVC\n",
        "from sklearn.model_selection import GridSearchCV\n",
        "\n",
        "# Define the pipeline\n",
        "pipeline = Pipeline([\n",
        "    ('tfidf', TfidfVectorizer()),\n",
        "    ('svm', SVC())\n",
        "])\n",
        "\n",
        "# Define the parameter grid to search over\n",
        "param_grid = {\n",
        "    'tfidf__max_features': [1000, 5000, 10000],\n",
        "    'tfidf__ngram_range': [(1, 1), (1, 2)],\n",
        "    'svm__C': [0.1, 1, 10],\n",
        "    'svm__kernel': ['linear', 'rbf']\n",
        "}\n",
        "\n",
        "# Create the GridSearchCV object\n",
        "grid = GridSearchCV(pipeline, param_grid, cv=5, n_jobs=-1, verbose=1)\n",
        "\n",
        "# Wrap the fit method with tqdm for progress bar\n",
        "with tqdm(total=len(param_grid)) as pbar:\n",
        "    def fit_with_progress(*args, **kwargs):\n",
        "        grid.fit(*args, **kwargs)\n",
        "        pbar.update(1)\n",
        "\n",
        "    # Fit the GridSearchCV object to the training data with progress bar\n",
        "    fit_with_progress(X_train, X_train_targetSentiment)\n",
        "\n",
        "# Print the best parameters and the best score\n",
        "print(\"Best parameters: \", grid.best_params_)\n",
        "print(\"Best score: \", grid.best_score_)\n"
      ],
      "id": "M_66D1Bxk8Ap"
    },
    {
      "cell_type": "code",
      "execution_count": null,
      "metadata": {
        "id": "dTtZnyKowQ4H"
      },
      "outputs": [],
      "source": [
        "import matplotlib.pyplot as plt\n",
        "\n",
        "# Extract the mean and standard deviation for each combination of hyperparameters\n",
        "results = grid.cv_results_\n",
        "scores_mean = results['mean_test_score']\n",
        "scores_std = results['std_test_score']\n",
        "params = results['params']\n",
        "\n",
        "# Extract the values of the hyperparameters\n",
        "x_values = [str(param['svm__C'])+'-'+param['svm__kernel']+'-'+str(param['tfidf__max_features'])+'-'+str(param['tfidf__ngram_range']) for param in params]\n",
        "y_values = scores_mean\n",
        "\n",
        "# Find the index of the best score and best parameters\n",
        "best_idx = results['rank_test_score'].argmin()\n",
        "best_params = params[best_idx]\n",
        "best_score = scores_mean[best_idx]\n",
        "\n",
        "# Define the color map\n",
        "cmap = plt.get_cmap('tab10')\n",
        "\n",
        "# Plot the graph\n",
        "fig, ax = plt.subplots(figsize=(10, 6))\n",
        "ax.errorbar(x_values, y_values, yerr=scores_std, fmt='o', color=cmap(0), ecolor='black', capsize=4, capthick=1, markersize=8)\n",
        "ax.scatter(best_idx, best_score, marker='*', s=200, color=cmap(2), label='Best score')\n",
        "ax.set_title('Grid search cross-validation results', fontsize=18)\n",
        "ax.set_xlabel('Hyperparameters (C-value, kernel, max_features, ngram_range)', fontsize=14)\n",
        "ax.set_ylabel('Mean cross-validation score', fontsize=14)\n",
        "ax.tick_params(axis='both', which='major', labelsize=12)\n",
        "ax.grid(True, linestyle='--', alpha=0.5)\n",
        "ax.legend(fontsize=12)\n",
        "\n",
        "# Adjust the x-axis tick labels\n",
        "ax.set_xticks(range(len(x_values)))\n",
        "ax.set_xticklabels(x_values, rotation=45, ha='right', fontsize=10)\n",
        "\n",
        "plt.tight_layout()\n",
        "plt.show()\n"
      ],
      "id": "dTtZnyKowQ4H"
    }
  ],
  "metadata": {
    "colab": {
      "provenance": [],
      "include_colab_link": true
    },
    "kernelspec": {
      "display_name": "Python 3 (ipykernel)",
      "language": "python",
      "name": "python3"
    },
    "language_info": {
      "codemirror_mode": {
        "name": "ipython",
        "version": 3
      },
      "file_extension": ".py",
      "mimetype": "text/x-python",
      "name": "python",
      "nbconvert_exporter": "python",
      "pygments_lexer": "ipython3",
      "version": "3.9.7"
    }
  },
  "nbformat": 4,
  "nbformat_minor": 5
}